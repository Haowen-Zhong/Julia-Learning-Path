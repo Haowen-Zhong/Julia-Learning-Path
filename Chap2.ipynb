{
 "cells": [
  {
   "cell_type": "markdown",
   "metadata": {},
   "source": [
    "# Chap2 Variables, Types and Operations\n",
    "\n",
    "用户可以明确传递给一个函数的变量类型——可以提升运行速度。因此深入理解Julia的变量规则是十分有必要的。\n",
    "\n",
    "这一章中将包含以下内容：\n",
    "* 变量、命名规则，注释\n",
    "* 变量类型\n",
    "* 整型变量\n",
    "* 浮点型变量\n",
    "* 基本的数学函数以及运算符\n",
    "* 分数以及复数\n",
    "* 字符\n",
    "* 字符串\n",
    "* 通常的表达式（Regular expressions）\n",
    "* 范围以及arrays\n",
    "* 日期与时间\n",
    "* 作用域和常数"
   ]
  },
  {
   "cell_type": "markdown",
   "metadata": {},
   "source": [
    "# 变量、命名规则，注释"
   ]
  },
  {
   "cell_type": "code",
   "execution_count": 4,
   "metadata": {},
   "outputs": [
    {
     "name": "stdout",
     "output_type": "stream",
     "text": [
      "a\n",
      "let me see\n"
     ]
    }
   ],
   "source": [
    "#Julia和其他语言不同，Julia明确区分character和string\n",
    "#双引号只能用于string，单引号只能用于character\n",
    "char1 = 'a'\n",
    "println(char1)\n",
    "str1 = \"let me see\"\n",
    "println(str1)"
   ]
  },
  {
   "cell_type": "code",
   "execution_count": 6,
   "metadata": {},
   "outputs": [
    {
     "ename": "LoadError",
     "evalue": "syntax: character literal contains multiple characters",
     "output_type": "error",
     "traceback": [
      "syntax: character literal contains multiple characters",
      "",
      "Stacktrace:",
      " [1] top-level scope at In[6]:1",
      " [2] include_string(::Function, ::Module, ::String, ::String) at ./loading.jl:1091"
     ]
    }
   ],
   "source": [
    "char2 = 'aw'"
   ]
  },
  {
   "cell_type": "code",
   "execution_count": 7,
   "metadata": {},
   "outputs": [
    {
     "data": {
      "text/plain": [
       "\"a\""
      ]
     },
     "execution_count": 7,
     "metadata": {},
     "output_type": "execute_result"
    }
   ],
   "source": [
    "str2 = \"a\"#由于字符串是可以包含任意数量的字符的，因此这也是合法的。"
   ]
  },
  {
   "cell_type": "code",
   "execution_count": 8,
   "metadata": {},
   "outputs": [
    {
     "data": {
      "text/plain": [
       "Int64"
      ]
     },
     "execution_count": 8,
     "metadata": {},
     "output_type": "execute_result"
    }
   ],
   "source": [
    "x = 42\n",
    "typeof(x)"
   ]
  },
  {
   "cell_type": "code",
   "execution_count": 9,
   "metadata": {},
   "outputs": [
    {
     "data": {
      "text/plain": [
       "String"
      ]
     },
     "execution_count": 9,
     "metadata": {},
     "output_type": "execute_result"
    }
   ],
   "source": [
    "x = \"I am Julia\"\n",
    "typeof(x)"
   ]
  },
  {
   "cell_type": "markdown",
   "metadata": {},
   "source": [
    "### 在Julia中我们并不需要事先声明一个变量的类型，但是我们一定要首先定义一个量——和Python一样。在Julia中任何一个语句都是一个expression，这和其他语言很不一样，因此在REPL中运行是非常棒的——我们每一步都能看到具体的expression的值。"
   ]
  },
  {
   "cell_type": "code",
   "execution_count": 10,
   "metadata": {},
   "outputs": [
    {
     "ename": "LoadError",
     "evalue": "MethodError: no method matching +(::String, ::Int64)\nClosest candidates are:\n  +(::Any, ::Any, !Matched::Any, !Matched::Any...) at operators.jl:538\n  +(!Matched::Complex{Bool}, ::Real) at complex.jl:301\n  +(!Matched::Missing, ::Number) at missing.jl:115\n  ...",
     "output_type": "error",
     "traceback": [
      "MethodError: no method matching +(::String, ::Int64)\nClosest candidates are:\n  +(::Any, ::Any, !Matched::Any, !Matched::Any...) at operators.jl:538\n  +(!Matched::Complex{Bool}, ::Real) at complex.jl:301\n  +(!Matched::Missing, ::Number) at missing.jl:115\n  ...",
      "",
      "Stacktrace:",
      " [1] top-level scope at In[10]:6",
      " [2] include_string(::Function, ::Module, ::String, ::String) at ./loading.jl:1091"
     ]
    }
   ],
   "source": [
    "\"\"\"\n",
    "Julia 是一个强类型语言！字符串就不能和数相加\n",
    "\"\"\"\n",
    "x = \"I am Julia\"\n",
    "y = 42\n",
    "x + y"
   ]
  },
  {
   "cell_type": "code",
   "execution_count": 11,
   "metadata": {},
   "outputs": [
    {
     "data": {
      "text/plain": [
       "45.5"
      ]
     },
     "execution_count": 11,
     "metadata": {},
     "output_type": "execute_result"
    }
   ],
   "source": [
    "x = 3.5\n",
    "y = 42\n",
    "x + y"
   ]
  },
  {
   "cell_type": "code",
   "execution_count": 12,
   "metadata": {},
   "outputs": [
    {
     "data": {
      "text/plain": [
       "5"
      ]
     },
     "execution_count": 12,
     "metadata": {},
     "output_type": "execute_result"
    }
   ],
   "source": [
    "#这里的；就和C++一样了，作为分隔符号，代表第一个语句的结束并且不让分号前的语句的结果输出\n",
    "x = 2; y = 3; x+y"
   ]
  },
  {
   "cell_type": "code",
   "execution_count": 13,
   "metadata": {},
   "outputs": [
    {
     "data": {
      "text/plain": [
       "4"
      ]
     },
     "execution_count": 13,
     "metadata": {},
     "output_type": "execute_result"
    }
   ],
   "source": [
    "\"\"\"\n",
    "Julia的变量命名是我见过的除了Mathematica之外最强大的语言了，你啥都能打出来\n",
    "\"\"\"\n",
    "ω1 = 2\n",
    "δ2 = 3\n",
    "α_ = 4"
   ]
  },
  {
   "cell_type": "code",
   "execution_count": 14,
   "metadata": {},
   "outputs": [
    {
     "data": {
      "text/plain": [
       "9.804927114935674"
      ]
     },
     "execution_count": 14,
     "metadata": {},
     "output_type": "execute_result"
    }
   ],
   "source": [
    "# Calculate the gravitational acceleration grav_acc:\n",
    "gc = 6.67e-11 # gravitational constant in m3/kg s2\n",
    "mass_earth = 5.98e24 # in kg\n",
    "radius_earth = 6378100 # in m\n",
    "grav_acc = gc * mass_earth / radius_earth^2 # 9.8049 m/s2"
   ]
  },
  {
   "cell_type": "code",
   "execution_count": 21,
   "metadata": {},
   "outputs": [
    {
     "name": "stdout",
     "output_type": "stream",
     "text": [
      "\u001b[31mI love Julia!\u001b[39m"
     ]
    }
   ],
   "source": [
    "printstyled(\"I love Julia!\", color=:red)"
   ]
  },
  {
   "cell_type": "code",
   "execution_count": 36,
   "metadata": {},
   "outputs": [
    {
     "data": {
      "text/plain": [
       "\"I love Julia!\""
      ]
     },
     "metadata": {},
     "output_type": "display_data"
    },
    {
     "name": "stdout",
     "output_type": "stream",
     "text": [
      "I love Julia!\n",
      "I love Julia!\n",
      "\"I love Julia!\""
     ]
    }
   ],
   "source": [
    "#print() display() show()\n",
    "x = \"I love Julia!\";\n",
    "println(x)\n",
    "println(x)\n",
    "show(x)\n",
    "display(x)#它总是第一个显示出来"
   ]
  },
  {
   "cell_type": "code",
   "execution_count": 38,
   "metadata": {},
   "outputs": [
    {
     "ename": "LoadError",
     "evalue": "TypeError: in typeassert, expected String, got a value of type Int64",
     "output_type": "error",
     "traceback": [
      "TypeError: in typeassert, expected String, got a value of type Int64",
      "",
      "Stacktrace:",
      " [1] top-level scope at In[38]:1",
      " [2] include_string(::Function, ::Module, ::String, ::String) at ./loading.jl:1091"
     ]
    }
   ],
   "source": [
    "x :: String\n",
    "x = 1"
   ]
  },
  {
   "cell_type": "code",
   "execution_count": 39,
   "metadata": {},
   "outputs": [
    {
     "data": {
      "text/plain": [
       "\"Have a try\""
      ]
     },
     "execution_count": 39,
     "metadata": {},
     "output_type": "execute_result"
    }
   ],
   "source": [
    "x = \"Have a try\""
   ]
  },
  {
   "cell_type": "code",
   "execution_count": 40,
   "metadata": {},
   "outputs": [
    {
     "ename": "LoadError",
     "evalue": "TypeError: in typeassert, expected String, got a value of type Int64",
     "output_type": "error",
     "traceback": [
      "TypeError: in typeassert, expected String, got a value of type Int64",
      "",
      "Stacktrace:",
      " [1] top-level scope at In[40]:1",
      " [2] include_string(::Function, ::Module, ::String, ::String) at ./loading.jl:1091"
     ]
    }
   ],
   "source": [
    "#这里有很有趣的一点是我们要注意，给定类型的语句是在变量后面的，这和C++就不一样。在C++中我们是用int a = 1来定义变量的。\n",
    "(2+3) :: String# (expr) :: TypeName 用来判断expr是否是TypeName类型的变量"
   ]
  },
  {
   "cell_type": "markdown",
   "metadata": {},
   "source": [
    "我们最好去写type-stable的代码，所谓type-stable的含义指的是整个代码中一个变量的类型是绝对不变的，这对代码的performance有很大的帮助。"
   ]
  },
  {
   "cell_type": "code",
   "execution_count": 47,
   "metadata": {},
   "outputs": [
    {
     "data": {
      "text/plain": [
       "sumofsins2 (generic function with 1 method)"
      ]
     },
     "execution_count": 47,
     "metadata": {},
     "output_type": "execute_result"
    }
   ],
   "source": [
    "#=A very good Example=#\n",
    "function sumofsins1(n::Integer)\n",
    "    r = 0#Integer64\n",
    "    for i in 1:n\n",
    "        r += sin(3.4)#Int→FLoat\n",
    "    end\n",
    "    return r\n",
    "end\n",
    "\n",
    "function sumofsins2(n::Integer)\n",
    "    r = 0.0#Float64\n",
    "    for i in 1:n\n",
    "        r += sin(3.4)#Float→Floar(Actcually doesn't vary)\n",
    "    end\n",
    "    return r\n",
    "end"
   ]
  },
  {
   "cell_type": "code",
   "execution_count": 49,
   "metadata": {},
   "outputs": [
    {
     "data": {
      "text/plain": [
       "-25554.110202663698"
      ]
     },
     "execution_count": 49,
     "metadata": {},
     "output_type": "execute_result"
    }
   ],
   "source": [
    "sumofsins1(100_000)\n",
    "sumofsins2(100_000)"
   ]
  },
  {
   "cell_type": "code",
   "execution_count": 55,
   "metadata": {},
   "outputs": [
    {
     "data": {
      "text/plain": [
       "true"
      ]
     },
     "execution_count": 55,
     "metadata": {},
     "output_type": "execute_result"
    }
   ],
   "source": [
    "100_100 == 100100"
   ]
  },
  {
   "cell_type": "code",
   "execution_count": 66,
   "metadata": {},
   "outputs": [
    {
     "name": "stdout",
     "output_type": "stream",
     "text": [
      "  0.136297 seconds (112.08 k allocations: 6.181 MiB)\n",
      "  0.062957 seconds (107.16 k allocations: 5.963 MiB)\n"
     ]
    }
   ],
   "source": [
    "#很奇怪。。。在我的电脑上这俩基本没啥区别\n",
    "@time [sumofsins1(100_000) for i in 1:100];\n",
    "@time [sumofsins2(100_000) for i in 1:100];"
   ]
  },
  {
   "cell_type": "code",
   "execution_count": 67,
   "metadata": {},
   "outputs": [
    {
     "name": "stdout",
     "output_type": "stream",
     "text": [
      "\n",
      ";  @ In[63]:1 within `sumofsins1'\n",
      "define { %jl_value_t*, i8 } @julia_sumofsins1_1684([8 x i8]* noalias nocapture align 8 dereferenceable(8), i64) {\n",
      "top:\n",
      ";  @ In[63]:3 within `sumofsins1'\n",
      "; ┌ @ range.jl:5 within `Colon'\n",
      "; │┌ @ range.jl:280 within `UnitRange'\n",
      "; ││┌ @ range.jl:285 within `unitrange_last'\n",
      "; │││┌ @ operators.jl:350 within `>='\n",
      "; ││││┌ @ int.jl:441 within `<='\n",
      "       %2 = icmp sgt i64 %1, 0\n",
      "; │││└└\n",
      "     %3 = select i1 %2, i64 %1, i64 0\n",
      "; └└└\n",
      "  br i1 %2, label %L11, label %union_move8\n",
      "\n",
      "L11:                                              ; preds = %L49, %top\n",
      "; ┌ @ range.jl:620 within `iterate'\n",
      "   %4 = phi double [ %value_phi3, %L49 ], [ 0.000000e+00, %top ]\n",
      "   %.sroa.014.0 = phi i64 [ %8, %L49 ], [ 0, %top ]\n",
      "   %tindex_phi = phi i8 [ 1, %L49 ], [ 2, %top ]\n",
      "   %value_phi2 = phi i64 [ %7, %L49 ], [ 1, %top ]\n",
      "; └\n",
      ";  @ In[63]:4 within `sumofsins1'\n",
      "  switch i8 %tindex_phi, label %L37 [\n",
      "    i8 1, label %L39\n",
      "    i8 2, label %L33\n",
      "  ]\n",
      "\n",
      "L33:                                              ; preds = %L11\n",
      "; ┌ @ promotion.jl:311 within `+'\n",
      "; │┌ @ promotion.jl:282 within `promote'\n",
      "; ││┌ @ promotion.jl:259 within `_promote'\n",
      "; │││┌ @ number.jl:7 within `convert'\n",
      "; ││││┌ @ float.jl:60 within `Float64'\n",
      "       %5 = sitofp i64 %.sroa.014.0 to double\n",
      "; └└└└└\n",
      ";  @ In[63]:3 within `sumofsins1'\n",
      "; ┌ @ range.jl:620 within `iterate'\n",
      "   br label %L39\n",
      "\n",
      "L37:                                              ; preds = %L11\n",
      "; └\n",
      ";  @ In[63]:4 within `sumofsins1'\n",
      "  call void @jl_throw(%jl_value_t* inttoptr (i64 4610868736 to %jl_value_t*))\n",
      "  unreachable\n",
      "\n",
      "L39:                                              ; preds = %L33, %L11\n",
      "  %value_phi3.in = phi double [ %5, %L33 ], [ %4, %L11 ]\n",
      "  %value_phi3 = fadd double %value_phi3.in, 0xBFD05AC910FF4C6C\n",
      ";  @ In[63]:4 within `sumofsins1'\n",
      "; ┌ @ range.jl:624 within `iterate'\n",
      "; │┌ @ promotion.jl:398 within `=='\n",
      "    %6 = icmp eq i64 %value_phi2, %3\n",
      "; └└\n",
      "  br i1 %6, label %union_move, label %L49\n",
      "\n",
      "L49:                                              ; preds = %L39\n",
      "; ┌ @ range.jl:624 within `iterate'\n",
      "   %7 = add nuw i64 %value_phi2, 1\n",
      "; └\n",
      ";  @ In[63]:3 within `sumofsins1'\n",
      "; ┌ @ range.jl:620 within `iterate'\n",
      "   %8 = bitcast double %value_phi3 to i64\n",
      "   br label %L11\n",
      "\n",
      "post_union_move:                                  ; preds = %union_move8, %union_move\n",
      "   %9 = phi { %jl_value_t*, i8 } [ { %jl_value_t* null, i8 2 }, %union_move8 ], [ { %jl_value_t* null, i8 1 }, %union_move ]\n",
      "; └\n",
      ";  @ In[63]:6 within `sumofsins1'\n",
      "  ret { %jl_value_t*, i8 } %9\n",
      "\n",
      "union_move:                                       ; preds = %L39\n",
      "  %value_phi3.lcssa = phi double [ %value_phi3, %L39 ]\n",
      ";  @ In[63]:6 within `sumofsins1'\n",
      "  %10 = bitcast [8 x i8]* %0 to double*\n",
      "  store double %value_phi3.lcssa, double* %10, align 8\n",
      "  br label %post_union_move\n",
      "\n",
      "union_move8:                                      ; preds = %top\n",
      "  %11 = bitcast [8 x i8]* %0 to i64*\n",
      "  store i64 0, i64* %11, align 8\n",
      "  br label %post_union_move\n",
      "}\n"
     ]
    }
   ],
   "source": [
    "code_llvm(sumofsins1, (Int, ))  "
   ]
  },
  {
   "cell_type": "code",
   "execution_count": 68,
   "metadata": {},
   "outputs": [
    {
     "name": "stdout",
     "output_type": "stream",
     "text": [
      "\n",
      ";  @ In[63]:9 within `sumofsins2'\n",
      "define double @julia_sumofsins2_1685(i64) {\n",
      "top:\n",
      ";  @ In[63]:11 within `sumofsins2'\n",
      "; ┌ @ range.jl:5 within `Colon'\n",
      "; │┌ @ range.jl:280 within `UnitRange'\n",
      "; ││┌ @ range.jl:285 within `unitrange_last'\n",
      "; │││┌ @ operators.jl:350 within `>='\n",
      "; ││││┌ @ int.jl:441 within `<='\n",
      "       %1 = icmp sgt i64 %0, 0\n",
      "; │││└└\n",
      "     %2 = select i1 %1, i64 %0, i64 0\n",
      "; └└└\n",
      "  br i1 %1, label %L11, label %L37\n",
      "\n",
      "L11:                                              ; preds = %L11, %top\n",
      "  %value_phi2 = phi double [ %3, %L11 ], [ 0.000000e+00, %top ]\n",
      "  %value_phi3 = phi i64 [ %5, %L11 ], [ 1, %top ]\n",
      ";  @ In[63]:12 within `sumofsins2'\n",
      "; ┌ @ float.jl:401 within `+'\n",
      "   %3 = fadd double %value_phi2, 0xBFD05AC910FF4C6C\n",
      "; └\n",
      "; ┌ @ range.jl:624 within `iterate'\n",
      "; │┌ @ promotion.jl:398 within `=='\n",
      "    %4 = icmp eq i64 %value_phi3, %2\n",
      "; │└\n",
      "   %5 = add nuw i64 %value_phi3, 1\n",
      "; └\n",
      "  br i1 %4, label %L37, label %L11\n",
      "\n",
      "L37:                                              ; preds = %L11, %top\n",
      "  %value_phi6 = phi double [ 0.000000e+00, %top ], [ %3, %L11 ]\n",
      ";  @ In[63]:14 within `sumofsins2'\n",
      "  ret double %value_phi6\n",
      "}\n"
     ]
    }
   ],
   "source": [
    " code_llvm(sumofsins2, (Int, ))  "
   ]
  },
  {
   "cell_type": "code",
   "execution_count": 77,
   "metadata": {},
   "outputs": [
    {
     "name": "stdout",
     "output_type": "stream",
     "text": [
      "false\n",
      "true\n",
      "true\n",
      "false\n"
     ]
    }
   ],
   "source": [
    "x=1\n",
    "println(isa(x, Float64))\n",
    "println(isa(x, Integer))\n",
    "println(isa(x, Any))\n",
    "println(isa(x, Nothing))"
   ]
  },
  {
   "cell_type": "code",
   "execution_count": 85,
   "metadata": {},
   "outputs": [
    {
     "data": {
      "text/plain": [
       "Core.typeof"
      ]
     },
     "execution_count": 85,
     "metadata": {},
     "output_type": "execute_result"
    }
   ],
   "source": [
    "\"\"\"\n",
    "Everything in Julia has a type, including types themselves, which are of type `DataType`\n",
    "\"\"\"\n",
    "typeof(Int64)"
   ]
  },
  {
   "cell_type": "code",
   "execution_count": 86,
   "metadata": {},
   "outputs": [
    {
     "data": {
      "text/plain": [
       "DataType"
      ]
     },
     "execution_count": 86,
     "metadata": {},
     "output_type": "execute_result"
    }
   ],
   "source": [
    "typeof(Int)"
   ]
  },
  {
   "cell_type": "code",
   "execution_count": 87,
   "metadata": {},
   "outputs": [
    {
     "data": {
      "text/plain": [
       "DataType"
      ]
     },
     "execution_count": 87,
     "metadata": {},
     "output_type": "execute_result"
    }
   ],
   "source": [
    "typeof(Float64)"
   ]
  },
  {
   "cell_type": "code",
   "execution_count": 97,
   "metadata": {},
   "outputs": [
    {
     "ename": "LoadError",
     "evalue": "MethodError: no method matching Int64(::String)\nClosest candidates are:\n  Int64(!Matched::Union{Bool, Int32, Int64, UInt32, UInt64, UInt8, Int128, Int16, Int8, UInt128, UInt16}) at boot.jl:708\n  Int64(!Matched::Ptr) at boot.jl:718\n  Int64(!Matched::Float32) at float.jl:706\n  ...",
     "output_type": "error",
     "traceback": [
      "MethodError: no method matching Int64(::String)\nClosest candidates are:\n  Int64(!Matched::Union{Bool, Int32, Int64, UInt32, UInt64, UInt8, Int128, Int16, Int8, UInt128, UInt16}) at boot.jl:708\n  Int64(!Matched::Ptr) at boot.jl:718\n  Int64(!Matched::Float32) at float.jl:706\n  ...",
      "",
      "Stacktrace:",
      " [1] top-level scope at In[97]:1",
      " [2] include_string(::Function, ::Module, ::String, ::String) at ./loading.jl:1091"
     ]
    }
   ],
   "source": [
    "Int64(\"hello\")"
   ]
  },
  {
   "cell_type": "code",
   "execution_count": 105,
   "metadata": {},
   "outputs": [
    {
     "data": {
      "text/plain": [
       "10.0"
      ]
     },
     "execution_count": 105,
     "metadata": {},
     "output_type": "execute_result"
    }
   ],
   "source": [
    "Float64(10)"
   ]
  },
  {
   "cell_type": "code",
   "execution_count": 108,
   "metadata": {},
   "outputs": [
    {
     "ename": "LoadError",
     "evalue": "InexactError: Int64(2.5)",
     "output_type": "error",
     "traceback": [
      "InexactError: Int64(2.5)",
      "",
      "Stacktrace:",
      " [1] Int64(::Float64) at ./float.jl:710",
      " [2] top-level scope at In[108]:1",
      " [3] include_string(::Function, ::Module, ::String, ::String) at ./loading.jl:1091"
     ]
    }
   ],
   "source": [
    "Int(2.5::Float64)"
   ]
  },
  {
   "cell_type": "code",
   "execution_count": 110,
   "metadata": {},
   "outputs": [
    {
     "ename": "InexactError",
     "evalue": "InexactError: Int64(2.5)",
     "output_type": "error",
     "traceback": [
      "InexactError: Int64(2.5)",
      "",
      "Stacktrace:",
      " [1] Int64(::Float64) at ./float.jl:710",
      " [2] top-level scope at none:1",
      " [3] eval at ./boot.jl:331 [inlined]",
      " [4] execute_request(::ZMQ.Socket, ::IJulia.Msg) at /Users/zhonghaowen/.julia/packages/IJulia/IDNmS/src/execute_request.jl:64",
      " [5] #invokelatest#1 at ./essentials.jl:710 [inlined]",
      " [6] invokelatest at ./essentials.jl:709 [inlined]",
      " [7] eventloop(::ZMQ.Socket) at /Users/zhonghaowen/.julia/packages/IJulia/IDNmS/src/eventloop.jl:8",
      " [8] (::IJulia.var\"#15#18\")() at ./task.jl:356"
     ]
    }
   ],
   "source": [
    "?InexactError:Int64(2.5)"
   ]
  },
  {
   "cell_type": "code",
   "execution_count": 111,
   "metadata": {},
   "outputs": [
    {
     "data": {
      "text/plain": [
       "32767"
      ]
     },
     "execution_count": 111,
     "metadata": {},
     "output_type": "execute_result"
    }
   ],
   "source": [
    "typemax(Int16)"
   ]
  },
  {
   "cell_type": "code",
   "execution_count": 112,
   "metadata": {},
   "outputs": [
    {
     "data": {
      "text/plain": [
       "2147483647"
      ]
     },
     "execution_count": 112,
     "metadata": {},
     "output_type": "execute_result"
    }
   ],
   "source": [
    "typemax(Int32)"
   ]
  },
  {
   "cell_type": "code",
   "execution_count": 113,
   "metadata": {},
   "outputs": [
    {
     "data": {
      "text/plain": [
       "9223372036854775807"
      ]
     },
     "execution_count": 113,
     "metadata": {},
     "output_type": "execute_result"
    }
   ],
   "source": [
    "typemax(Int64)"
   ]
  },
  {
   "cell_type": "code",
   "execution_count": 114,
   "metadata": {},
   "outputs": [
    {
     "data": {
      "text/plain": [
       "9223372036854775807"
      ]
     },
     "execution_count": 114,
     "metadata": {},
     "output_type": "execute_result"
    }
   ],
   "source": [
    "typemax(Int)"
   ]
  },
  {
   "cell_type": "code",
   "execution_count": 115,
   "metadata": {},
   "outputs": [
    {
     "data": {
      "text/plain": [
       "-9223372036854775808"
      ]
     },
     "execution_count": 115,
     "metadata": {},
     "output_type": "execute_result"
    }
   ],
   "source": [
    "ans+1"
   ]
  },
  {
   "cell_type": "code",
   "execution_count": 116,
   "metadata": {},
   "outputs": [
    {
     "data": {
      "text/plain": [
       "9223372036854775808"
      ]
     },
     "execution_count": 116,
     "metadata": {},
     "output_type": "execute_result"
    }
   ],
   "source": [
    "BigInt(9223372036854775808)"
   ]
  },
  {
   "cell_type": "code",
   "execution_count": 117,
   "metadata": {},
   "outputs": [
    {
     "data": {
      "text/plain": [
       "9223372036854775809"
      ]
     },
     "execution_count": 117,
     "metadata": {},
     "output_type": "execute_result"
    }
   ],
   "source": [
    "big(9223372036854775809)"
   ]
  },
  {
   "cell_type": "code",
   "execution_count": 125,
   "metadata": {},
   "outputs": [
    {
     "data": {
      "text/plain": [
       "false"
      ]
     },
     "execution_count": 125,
     "metadata": {},
     "output_type": "execute_result"
    }
   ],
   "source": [
    "!true"
   ]
  },
  {
   "cell_type": "code",
   "execution_count": 126,
   "metadata": {},
   "outputs": [
    {
     "data": {
      "text/plain": [
       "true"
      ]
     },
     "execution_count": 126,
     "metadata": {},
     "output_type": "execute_result"
    }
   ],
   "source": [
    "0<x<3"
   ]
  },
  {
   "cell_type": "code",
   "execution_count": 128,
   "metadata": {},
   "outputs": [
    {
     "data": {
      "text/plain": [
       "false"
      ]
     },
     "execution_count": 128,
     "metadata": {},
     "output_type": "execute_result"
    }
   ],
   "source": [
    "#comparisons can be chained after one another\n",
    "x = 5\n",
    "3<x>8"
   ]
  },
  {
   "cell_type": "code",
   "execution_count": 129,
   "metadata": {},
   "outputs": [
    {
     "data": {
      "text/plain": [
       "Float64"
      ]
     },
     "execution_count": 129,
     "metadata": {},
     "output_type": "execute_result"
    }
   ],
   "source": [
    "typeof(3.14)"
   ]
  },
  {
   "cell_type": "code",
   "execution_count": 130,
   "metadata": {},
   "outputs": [
    {
     "data": {
      "text/plain": [
       "Irrational{:π}"
      ]
     },
     "execution_count": 130,
     "metadata": {},
     "output_type": "execute_result"
    }
   ],
   "source": [
    "typeof(π)"
   ]
  },
  {
   "cell_type": "code",
   "execution_count": 131,
   "metadata": {},
   "outputs": [
    {
     "data": {
      "text/plain": [
       "π = 3.1415926535897..."
      ]
     },
     "execution_count": 131,
     "metadata": {},
     "output_type": "execute_result"
    }
   ],
   "source": [
    "π"
   ]
  },
  {
   "cell_type": "code",
   "execution_count": 132,
   "metadata": {},
   "outputs": [
    {
     "data": {
      "text/plain": [
       "Float64"
      ]
     },
     "execution_count": 132,
     "metadata": {},
     "output_type": "execute_result"
    }
   ],
   "source": [
    "typeof(4e-14)"
   ]
  },
  {
   "cell_type": "code",
   "execution_count": 134,
   "metadata": {},
   "outputs": [
    {
     "data": {
      "text/plain": [
       "Float32"
      ]
     },
     "execution_count": 134,
     "metadata": {},
     "output_type": "execute_result"
    }
   ],
   "source": [
    "typeof(3.14f0)#这是单精度形变量的定义，注意必须这么写 e⟹f"
   ]
  },
  {
   "cell_type": "code",
   "execution_count": 137,
   "metadata": {},
   "outputs": [
    {
     "name": "stdout",
     "output_type": "stream",
     "text": [
      "Float32\n",
      "Float64\n"
     ]
    }
   ],
   "source": [
    "println(typeof(2.5f2))\n",
    "println(typeof(2.5*10^2))"
   ]
  },
  {
   "cell_type": "code",
   "execution_count": 143,
   "metadata": {},
   "outputs": [
    {
     "data": {
      "text/plain": [
       "Inf"
      ]
     },
     "execution_count": 143,
     "metadata": {},
     "output_type": "execute_result"
    }
   ],
   "source": [
    "Inf"
   ]
  },
  {
   "cell_type": "code",
   "execution_count": 144,
   "metadata": {},
   "outputs": [
    {
     "data": {
      "text/plain": [
       "0.30000000000000004"
      ]
     },
     "execution_count": 144,
     "metadata": {},
     "output_type": "execute_result"
    }
   ],
   "source": [
    "0.1+0.2"
   ]
  },
  {
   "cell_type": "code",
   "execution_count": 145,
   "metadata": {},
   "outputs": [
    {
     "data": {
      "text/plain": [
       "false"
      ]
     },
     "execution_count": 145,
     "metadata": {},
     "output_type": "execute_result"
    }
   ],
   "source": [
    "#不要用==去比较浮点数\n",
    "0.1 + 0.2 == 0.3"
   ]
  },
  {
   "cell_type": "code",
   "execution_count": 146,
   "metadata": {},
   "outputs": [
    {
     "data": {
      "text/plain": [
       "true"
      ]
     },
     "execution_count": 146,
     "metadata": {},
     "output_type": "execute_result"
    }
   ],
   "source": [
    "0.1 + 0.2 >= 0.3"
   ]
  },
  {
   "cell_type": "code",
   "execution_count": 147,
   "metadata": {},
   "outputs": [
    {
     "data": {
      "text/plain": [
       "\"0000000000000000000000000000000000000000000000000000000000000011\""
      ]
     },
     "execution_count": 147,
     "metadata": {},
     "output_type": "execute_result"
    }
   ],
   "source": [
    "bitstring(3)#二进制的表示"
   ]
  },
  {
   "cell_type": "code",
   "execution_count": 148,
   "metadata": {},
   "outputs": [
    {
     "data": {
      "text/plain": [
       "\"0100000000001010011001100110011001100110011001100110011001100110\""
      ]
     },
     "execution_count": 148,
     "metadata": {},
     "output_type": "execute_result"
    }
   ],
   "source": [
    "bitstring(3.3)"
   ]
  },
  {
   "cell_type": "code",
   "execution_count": 149,
   "metadata": {},
   "outputs": [
    {
     "data": {
      "text/plain": [
       "3.0"
      ]
     },
     "execution_count": 149,
     "metadata": {},
     "output_type": "execute_result"
    }
   ],
   "source": [
    "round(3.3)#取整数部分"
   ]
  },
  {
   "cell_type": "code",
   "execution_count": 150,
   "metadata": {},
   "outputs": [
    {
     "data": {
      "text/plain": [
       "-2.0"
      ]
     },
     "execution_count": 150,
     "metadata": {},
     "output_type": "execute_result"
    }
   ],
   "source": [
    "round(-2.3)#取整数部分"
   ]
  },
  {
   "cell_type": "code",
   "execution_count": 151,
   "metadata": {},
   "outputs": [
    {
     "data": {
      "text/plain": [
       "5-element Array{Float64,1}:\n",
       " 0.568830463666814\n",
       " 0.32196745356183243\n",
       " 0.7826240316449131\n",
       " 0.6038807876050349\n",
       " 0.3608198524433819"
      ]
     },
     "execution_count": 151,
     "metadata": {},
     "output_type": "execute_result"
    }
   ],
   "source": [
    "rand(5)"
   ]
  },
  {
   "cell_type": "code",
   "execution_count": 152,
   "metadata": {},
   "outputs": [
    {
     "data": {
      "text/plain": [
       "1"
      ]
     },
     "execution_count": 152,
     "metadata": {},
     "output_type": "execute_result"
    }
   ],
   "source": [
    "a = b = c = d = e = 1 "
   ]
  },
  {
   "cell_type": "code",
   "execution_count": 153,
   "metadata": {},
   "outputs": [
    {
     "data": {
      "text/plain": [
       "1"
      ]
     },
     "execution_count": 153,
     "metadata": {},
     "output_type": "execute_result"
    }
   ],
   "source": [
    "b = 2\n",
    "a"
   ]
  },
  {
   "cell_type": "code",
   "execution_count": 154,
   "metadata": {},
   "outputs": [
    {
     "data": {
      "text/plain": [
       "(3, 4)"
      ]
     },
     "execution_count": 154,
     "metadata": {},
     "output_type": "execute_result"
    }
   ],
   "source": [
    "a = 1 ; b = 2; c = 3; d = 4\n",
    "a, b = c, d"
   ]
  },
  {
   "cell_type": "code",
   "execution_count": 155,
   "metadata": {},
   "outputs": [
    {
     "data": {
      "text/plain": [
       "(3, 4)"
      ]
     },
     "execution_count": 155,
     "metadata": {},
     "output_type": "execute_result"
    }
   ],
   "source": [
    "a, b"
   ]
  },
  {
   "cell_type": "code",
   "execution_count": 156,
   "metadata": {},
   "outputs": [
    {
     "data": {
      "text/plain": [
       "(4, 3)"
      ]
     },
     "execution_count": 156,
     "metadata": {},
     "output_type": "execute_result"
    }
   ],
   "source": [
    "a, b = b, a"
   ]
  },
  {
   "cell_type": "code",
   "execution_count": 157,
   "metadata": {},
   "outputs": [
    {
     "data": {
      "text/plain": [
       "(4, 3)"
      ]
     },
     "execution_count": 157,
     "metadata": {},
     "output_type": "execute_result"
    }
   ],
   "source": [
    "a, b"
   ]
  },
  {
   "cell_type": "code",
   "execution_count": 158,
   "metadata": {},
   "outputs": [
    {
     "data": {
      "text/plain": [
       "3.2 + 7.1im"
      ]
     },
     "execution_count": 158,
     "metadata": {},
     "output_type": "execute_result"
    }
   ],
   "source": [
    "3.2 + 7.1im"
   ]
  },
  {
   "cell_type": "code",
   "execution_count": 159,
   "metadata": {},
   "outputs": [
    {
     "data": {
      "text/plain": [
       "Complex{Int64}"
      ]
     },
     "execution_count": 159,
     "metadata": {},
     "output_type": "execute_result"
    }
   ],
   "source": [
    "typeof(1+1im)"
   ]
  },
  {
   "cell_type": "code",
   "execution_count": 160,
   "metadata": {},
   "outputs": [
    {
     "data": {
      "text/plain": [
       "-3.8999999999999995 + 10.3im"
      ]
     },
     "execution_count": 160,
     "metadata": {},
     "output_type": "execute_result"
    }
   ],
   "source": [
    "(3.2 + 7.1im)*(1+1im)"
   ]
  },
  {
   "cell_type": "code",
   "execution_count": 161,
   "metadata": {},
   "outputs": [
    {
     "data": {
      "text/plain": [
       "1.4686939399158851 + 2.2873552871788423im"
      ]
     },
     "execution_count": 161,
     "metadata": {},
     "output_type": "execute_result"
    }
   ],
   "source": [
    "exp(1+1im)"
   ]
  },
  {
   "cell_type": "code",
   "execution_count": 165,
   "metadata": {},
   "outputs": [
    {
     "data": {
      "text/plain": [
       "1.4142135623730951"
      ]
     },
     "execution_count": 165,
     "metadata": {},
     "output_type": "execute_result"
    }
   ],
   "source": [
    "abs(1+1im)"
   ]
  },
  {
   "cell_type": "code",
   "execution_count": 163,
   "metadata": {},
   "outputs": [
    {
     "data": {
      "text/plain": [
       "1.4142135623730951"
      ]
     },
     "execution_count": 163,
     "metadata": {},
     "output_type": "execute_result"
    }
   ],
   "source": [
    "√2"
   ]
  },
  {
   "cell_type": "code",
   "execution_count": 167,
   "metadata": {},
   "outputs": [
    {
     "data": {
      "text/plain": [
       "3 + 4im"
      ]
     },
     "execution_count": 167,
     "metadata": {},
     "output_type": "execute_result"
    }
   ],
   "source": [
    "complex(3,4)"
   ]
  },
  {
   "cell_type": "code",
   "execution_count": 168,
   "metadata": {},
   "outputs": [
    {
     "data": {
      "text/plain": [
       "3//4"
      ]
     },
     "execution_count": 168,
     "metadata": {},
     "output_type": "execute_result"
    }
   ],
   "source": [
    "3//4 #有理数"
   ]
  },
  {
   "cell_type": "code",
   "execution_count": 171,
   "metadata": {},
   "outputs": [
    {
     "data": {
      "text/plain": [
       "Char"
      ]
     },
     "execution_count": 171,
     "metadata": {},
     "output_type": "execute_result"
    }
   ],
   "source": [
    "typeof('A')"
   ]
  },
  {
   "cell_type": "code",
   "execution_count": 172,
   "metadata": {},
   "outputs": [
    {
     "data": {
      "text/plain": [
       "String"
      ]
     },
     "execution_count": 172,
     "metadata": {},
     "output_type": "execute_result"
    }
   ],
   "source": [
    "typeof(\"A\")"
   ]
  },
  {
   "cell_type": "code",
   "execution_count": 173,
   "metadata": {},
   "outputs": [
    {
     "data": {
      "text/plain": [
       "'\\xff\\xff\\xff\\xff': Malformed UTF-8 (category Ma: Malformed, bad data)"
      ]
     },
     "execution_count": 173,
     "metadata": {},
     "output_type": "execute_result"
    }
   ],
   "source": [
    "typemax(Char)"
   ]
  },
  {
   "cell_type": "code",
   "execution_count": 174,
   "metadata": {},
   "outputs": [
    {
     "data": {
      "text/plain": [
       "'\\0': ASCII/Unicode U+0000 (category Cc: Other, control)"
      ]
     },
     "execution_count": 174,
     "metadata": {},
     "output_type": "execute_result"
    }
   ],
   "source": [
    "typemin(Char)"
   ]
  },
  {
   "cell_type": "code",
   "execution_count": 175,
   "metadata": {},
   "outputs": [
    {
     "data": {
      "text/plain": [
       "'A': ASCII/Unicode U+0041 (category Lu: Letter, uppercase)"
      ]
     },
     "execution_count": 175,
     "metadata": {},
     "output_type": "execute_result"
    }
   ],
   "source": [
    "Char(65)"
   ]
  },
  {
   "cell_type": "code",
   "execution_count": 176,
   "metadata": {},
   "outputs": [
    {
     "data": {
      "text/plain": [
       "'a': ASCII/Unicode U+0061 (category Ll: Letter, lowercase)"
      ]
     },
     "execution_count": 176,
     "metadata": {},
     "output_type": "execute_result"
    }
   ],
   "source": [
    "Char(97)"
   ]
  },
  {
   "cell_type": "code",
   "execution_count": 177,
   "metadata": {},
   "outputs": [
    {
     "data": {
      "text/plain": [
       "'e': ASCII/Unicode U+0065 (category Ll: Letter, lowercase)"
      ]
     },
     "execution_count": 177,
     "metadata": {},
     "output_type": "execute_result"
    }
   ],
   "source": [
    "s = \"Hello, Julia\"\n",
    "s[2]"
   ]
  },
  {
   "cell_type": "code",
   "execution_count": 179,
   "metadata": {},
   "outputs": [
    {
     "ename": "LoadError",
     "evalue": "MethodError: no method matching setindex!(::String, ::Char, ::Int64)",
     "output_type": "error",
     "traceback": [
      "MethodError: no method matching setindex!(::String, ::Char, ::Int64)",
      "",
      "Stacktrace:",
      " [1] top-level scope at In[179]:1",
      " [2] include_string(::Function, ::Module, ::String, ::String) at ./loading.jl:1091"
     ]
    }
   ],
   "source": [
    "s[2] = 'z'"
   ]
  },
  {
   "cell_type": "code",
   "execution_count": 180,
   "metadata": {},
   "outputs": [
    {
     "data": {
      "text/plain": [
       "'a': ASCII/Unicode U+0061 (category Ll: Letter, lowercase)"
      ]
     },
     "execution_count": 180,
     "metadata": {},
     "output_type": "execute_result"
    }
   ],
   "source": [
    "s[end]"
   ]
  },
  {
   "cell_type": "code",
   "execution_count": 181,
   "metadata": {},
   "outputs": [
    {
     "data": {
      "text/plain": [
       "'H': ASCII/Unicode U+0048 (category Lu: Letter, uppercase)"
      ]
     },
     "execution_count": 181,
     "metadata": {},
     "output_type": "execute_result"
    }
   ],
   "source": [
    "s[begin]"
   ]
  },
  {
   "cell_type": "code",
   "execution_count": 182,
   "metadata": {},
   "outputs": [
    {
     "data": {
      "text/plain": [
       "'H': ASCII/Unicode U+0048 (category Lu: Letter, uppercase)"
      ]
     },
     "execution_count": 182,
     "metadata": {},
     "output_type": "execute_result"
    }
   ],
   "source": [
    "s[1]"
   ]
  },
  {
   "cell_type": "code",
   "execution_count": 184,
   "metadata": {},
   "outputs": [
    {
     "data": {
      "text/plain": [
       "12"
      ]
     },
     "execution_count": 184,
     "metadata": {},
     "output_type": "execute_result"
    }
   ],
   "source": [
    "length(s)"
   ]
  },
  {
   "cell_type": "code",
   "execution_count": 188,
   "metadata": {},
   "outputs": [
    {
     "data": {
      "text/plain": [
       "\"I am the α: the beginning\""
      ]
     },
     "execution_count": 188,
     "metadata": {},
     "output_type": "execute_result"
    }
   ],
   "source": [
    "str2 = \"I am the α: the beginning\""
   ]
  },
  {
   "cell_type": "code",
   "execution_count": 189,
   "metadata": {},
   "outputs": [
    {
     "data": {
      "text/plain": [
       "'α': Unicode U+03B1 (category Ll: Letter, lowercase)"
      ]
     },
     "execution_count": 189,
     "metadata": {},
     "output_type": "execute_result"
    }
   ],
   "source": [
    "str2[10]#事实上一个α占两个位置，所以取[11]会报错"
   ]
  },
  {
   "cell_type": "code",
   "execution_count": 190,
   "metadata": {},
   "outputs": [
    {
     "ename": "LoadError",
     "evalue": "StringIndexError(\"I am the α: the beginning\", 11)",
     "output_type": "error",
     "traceback": [
      "StringIndexError(\"I am the α: the beginning\", 11)",
      "",
      "Stacktrace:",
      " [1] string_index_err(::String, ::Int64) at ./strings/string.jl:12",
      " [2] getindex_continued(::String, ::Int64, ::UInt32) at ./strings/string.jl:220",
      " [3] getindex(::String, ::Int64) at ./strings/string.jl:213",
      " [4] top-level scope at In[190]:1",
      " [5] include_string(::Function, ::Module, ::String, ::String) at ./loading.jl:1091"
     ]
    }
   ],
   "source": [
    "str2[11]"
   ]
  },
  {
   "cell_type": "code",
   "execution_count": 191,
   "metadata": {},
   "outputs": [
    {
     "data": {
      "text/plain": [
       "':': ASCII/Unicode U+003A (category Po: Punctuation, other)"
      ]
     },
     "execution_count": 191,
     "metadata": {},
     "output_type": "execute_result"
    }
   ],
   "source": [
    "str2[12]"
   ]
  },
  {
   "cell_type": "code",
   "execution_count": 192,
   "metadata": {},
   "outputs": [
    {
     "data": {
      "text/plain": [
       "25"
      ]
     },
     "execution_count": 192,
     "metadata": {},
     "output_type": "execute_result"
    }
   ],
   "source": [
    "length(str2)"
   ]
  },
  {
   "cell_type": "code",
   "execution_count": 193,
   "metadata": {},
   "outputs": [
    {
     "data": {
      "text/plain": [
       "26"
      ]
     },
     "execution_count": 193,
     "metadata": {},
     "output_type": "execute_result"
    }
   ],
   "source": [
    "lastindex(str2)"
   ]
  },
  {
   "cell_type": "code",
   "execution_count": 194,
   "metadata": {},
   "outputs": [
    {
     "data": {
      "text/plain": [
       "'g': ASCII/Unicode U+0067 (category Ll: Letter, lowercase)"
      ]
     },
     "execution_count": 194,
     "metadata": {},
     "output_type": "execute_result"
    }
   ],
   "source": [
    "str2[26]"
   ]
  },
  {
   "cell_type": "code",
   "execution_count": 195,
   "metadata": {},
   "outputs": [
    {
     "name": "stdout",
     "output_type": "stream",
     "text": [
      "I am the α: the beginning"
     ]
    }
   ],
   "source": [
    "for char in str2\n",
    "    print(char)\n",
    "end"
   ]
  },
  {
   "cell_type": "code",
   "execution_count": 200,
   "metadata": {},
   "outputs": [
    {
     "data": {
      "text/plain": [
       "\"llo\""
      ]
     },
     "execution_count": 200,
     "metadata": {},
     "output_type": "execute_result"
    }
   ],
   "source": [
    "s[3:5]"
   ]
  },
  {
   "cell_type": "code",
   "execution_count": 201,
   "metadata": {},
   "outputs": [
    {
     "data": {
      "text/plain": [
       "\"llo, Julia\""
      ]
     },
     "execution_count": 201,
     "metadata": {},
     "output_type": "execute_result"
    }
   ],
   "source": [
    "s[3:end]"
   ]
  },
  {
   "cell_type": "code",
   "execution_count": 202,
   "metadata": {},
   "outputs": [
    {
     "data": {
      "text/plain": [
       "false"
      ]
     },
     "execution_count": 202,
     "metadata": {},
     "output_type": "execute_result"
    }
   ],
   "source": [
    "'A' == \"A\""
   ]
  },
  {
   "cell_type": "code",
   "execution_count": 207,
   "metadata": {},
   "outputs": [
    {
     "name": "stdout",
     "output_type": "stream",
     "text": [
      "a = 5\n"
     ]
    }
   ],
   "source": [
    "a = 5\n",
    "println(\"a = $a\")"
   ]
  },
  {
   "cell_type": "code",
   "execution_count": 208,
   "metadata": {},
   "outputs": [
    {
     "name": "stdout",
     "output_type": "stream",
     "text": [
      "a*b = 6\n"
     ]
    }
   ],
   "source": [
    "a = 2; b = 3;\n",
    "println(\"a*b = $(a*b)\")"
   ]
  },
  {
   "cell_type": "code",
   "execution_count": 209,
   "metadata": {},
   "outputs": [
    {
     "name": "stdout",
     "output_type": "stream",
     "text": [
      "I want to print $ symbol\n"
     ]
    }
   ],
   "source": [
    "println(\"I want to print \\$ symbol\")"
   ]
  },
  {
   "cell_type": "code",
   "execution_count": 210,
   "metadata": {},
   "outputs": [
    {
     "data": {
      "text/plain": [
       "\"ABCDEF\""
      ]
     },
     "execution_count": 210,
     "metadata": {},
     "output_type": "execute_result"
    }
   ],
   "source": [
    "\"ABC\" * \"DEF\""
   ]
  },
  {
   "cell_type": "code",
   "execution_count": 211,
   "metadata": {},
   "outputs": [
    {
     "data": {
      "text/plain": [
       "\"abcdefghi\""
      ]
     },
     "execution_count": 211,
     "metadata": {},
     "output_type": "execute_result"
    }
   ],
   "source": [
    "string(\"abc\", \"def\", \"ghi\")"
   ]
  },
  {
   "cell_type": "code",
   "execution_count": 212,
   "metadata": {},
   "outputs": [
    {
     "data": {
      "text/plain": [
       ":green"
      ]
     },
     "execution_count": 212,
     "metadata": {},
     "output_type": "execute_result"
    }
   ],
   "source": [
    ":green"
   ]
  },
  {
   "cell_type": "code",
   "execution_count": 213,
   "metadata": {},
   "outputs": [
    {
     "data": {
      "text/html": [
       "104-element Array{Method,1}:<ul><li> uuid5(ns::<b>Base.UUID</b>, name::<b>String</b>) in UUIDs at <a href=\"file:///Users/julia/buildbot/worker/package_macos64/build/usr/share/julia/stdlib/v1.5/UUIDs/src/UUIDs.jl\" target=\"_blank\">/Applications/Julia-1.5.app/Contents/Resources/julia/share/julia/stdlib/v1.5/UUIDs/src/UUIDs.jl:117</a><li> crc32c(s::<b>String</b>, crc::<b>UInt32</b>) in CRC32c at <a href=\"file:///Users/julia/buildbot/worker/package_macos64/build/usr/share/julia/stdlib/v1.5/CRC32c/src/CRC32c.jl\" target=\"_blank\">/Applications/Julia-1.5.app/Contents/Resources/julia/share/julia/stdlib/v1.5/CRC32c/src/CRC32c.jl:39</a><li> crc32c(s::<b>String</b>) in CRC32c at <a href=\"file:///Users/julia/buildbot/worker/package_macos64/build/usr/share/julia/stdlib/v1.5/CRC32c/src/CRC32c.jl\" target=\"_blank\">/Applications/Julia-1.5.app/Contents/Resources/julia/share/julia/stdlib/v1.5/CRC32c/src/CRC32c.jl:39</a><li> subscribe(socket::<b>ZMQ.Socket</b>, filter::<b>Union{Array{UInt8,1}, String}</b>) in ZMQ at <a href=\"file:///Users/zhonghaowen/.julia/packages/ZMQ/R3wSD/src/sockopts.jl\" target=\"_blank\">/Users/zhonghaowen/.julia/packages/ZMQ/R3wSD/src/sockopts.jl:75</a><li> unsubscribe(socket::<b>ZMQ.Socket</b>, filter::<b>Union{Array{UInt8,1}, String}</b>) in ZMQ at <a href=\"file:///Users/zhonghaowen/.julia/packages/ZMQ/R3wSD/src/sockopts.jl\" target=\"_blank\">/Users/zhonghaowen/.julia/packages/ZMQ/R3wSD/src/sockopts.jl:75</a><li> @pkg_str(__source__::<b>LineNumberNode</b>, __module__::<b>Module</b>, str::<b>String</b>) in Pkg.REPLMode at <a href=\"file:///Users/julia/buildbot/worker/package_macos64/build/usr/share/julia/stdlib/v1.5/Pkg/src/REPLMode/REPLMode.jl\" target=\"_blank\">/Applications/Julia-1.5.app/Contents/Resources/julia/share/julia/stdlib/v1.5/Pkg/src/REPLMode/REPLMode.jl:460</a><li> hmac_sha1(key::<b>Array{UInt8,1}</b>, str::<b>String</b>) in SHA at <a href=\"file:///Users/julia/buildbot/worker/package_macos64/build/usr/share/julia/stdlib/v1.5/SHA/src/SHA.jl\" target=\"_blank\">/Applications/Julia-1.5.app/Contents/Resources/julia/share/julia/stdlib/v1.5/SHA/src/SHA.jl:63</a><li> hmac_sha224(key::<b>Array{UInt8,1}</b>, str::<b>String</b>) in SHA at <a href=\"file:///Users/julia/buildbot/worker/package_macos64/build/usr/share/julia/stdlib/v1.5/SHA/src/SHA.jl\" target=\"_blank\">/Applications/Julia-1.5.app/Contents/Resources/julia/share/julia/stdlib/v1.5/SHA/src/SHA.jl:63</a><li> hmac_sha256(key::<b>Array{UInt8,1}</b>, str::<b>String</b>) in SHA at <a href=\"file:///Users/julia/buildbot/worker/package_macos64/build/usr/share/julia/stdlib/v1.5/SHA/src/SHA.jl\" target=\"_blank\">/Applications/Julia-1.5.app/Contents/Resources/julia/share/julia/stdlib/v1.5/SHA/src/SHA.jl:63</a><li> hmac_sha2_224(key::<b>Array{UInt8,1}</b>, str::<b>String</b>) in SHA at <a href=\"file:///Users/julia/buildbot/worker/package_macos64/build/usr/share/julia/stdlib/v1.5/SHA/src/SHA.jl\" target=\"_blank\">/Applications/Julia-1.5.app/Contents/Resources/julia/share/julia/stdlib/v1.5/SHA/src/SHA.jl:63</a><li> hmac_sha2_256(key::<b>Array{UInt8,1}</b>, str::<b>String</b>) in SHA at <a href=\"file:///Users/julia/buildbot/worker/package_macos64/build/usr/share/julia/stdlib/v1.5/SHA/src/SHA.jl\" target=\"_blank\">/Applications/Julia-1.5.app/Contents/Resources/julia/share/julia/stdlib/v1.5/SHA/src/SHA.jl:63</a><li> hmac_sha2_384(key::<b>Array{UInt8,1}</b>, str::<b>String</b>) in SHA at <a href=\"file:///Users/julia/buildbot/worker/package_macos64/build/usr/share/julia/stdlib/v1.5/SHA/src/SHA.jl\" target=\"_blank\">/Applications/Julia-1.5.app/Contents/Resources/julia/share/julia/stdlib/v1.5/SHA/src/SHA.jl:63</a><li> hmac_sha2_512(key::<b>Array{UInt8,1}</b>, str::<b>String</b>) in SHA at <a href=\"file:///Users/julia/buildbot/worker/package_macos64/build/usr/share/julia/stdlib/v1.5/SHA/src/SHA.jl\" target=\"_blank\">/Applications/Julia-1.5.app/Contents/Resources/julia/share/julia/stdlib/v1.5/SHA/src/SHA.jl:63</a><li> hmac_sha384(key::<b>Array{UInt8,1}</b>, str::<b>String</b>) in SHA at <a href=\"file:///Users/julia/buildbot/worker/package_macos64/build/usr/share/julia/stdlib/v1.5/SHA/src/SHA.jl\" target=\"_blank\">/Applications/Julia-1.5.app/Contents/Resources/julia/share/julia/stdlib/v1.5/SHA/src/SHA.jl:63</a><li> hmac_sha3_224(key::<b>Array{UInt8,1}</b>, str::<b>String</b>) in SHA at <a href=\"file:///Users/julia/buildbot/worker/package_macos64/build/usr/share/julia/stdlib/v1.5/SHA/src/SHA.jl\" target=\"_blank\">/Applications/Julia-1.5.app/Contents/Resources/julia/share/julia/stdlib/v1.5/SHA/src/SHA.jl:63</a><li> hmac_sha3_256(key::<b>Array{UInt8,1}</b>, str::<b>String</b>) in SHA at <a href=\"file:///Users/julia/buildbot/worker/package_macos64/build/usr/share/julia/stdlib/v1.5/SHA/src/SHA.jl\" target=\"_blank\">/Applications/Julia-1.5.app/Contents/Resources/julia/share/julia/stdlib/v1.5/SHA/src/SHA.jl:63</a><li> hmac_sha3_384(key::<b>Array{UInt8,1}</b>, str::<b>String</b>) in SHA at <a href=\"file:///Users/julia/buildbot/worker/package_macos64/build/usr/share/julia/stdlib/v1.5/SHA/src/SHA.jl\" target=\"_blank\">/Applications/Julia-1.5.app/Contents/Resources/julia/share/julia/stdlib/v1.5/SHA/src/SHA.jl:63</a><li> hmac_sha3_512(key::<b>Array{UInt8,1}</b>, str::<b>String</b>) in SHA at <a href=\"file:///Users/julia/buildbot/worker/package_macos64/build/usr/share/julia/stdlib/v1.5/SHA/src/SHA.jl\" target=\"_blank\">/Applications/Julia-1.5.app/Contents/Resources/julia/share/julia/stdlib/v1.5/SHA/src/SHA.jl:63</a><li> hmac_sha512(key::<b>Array{UInt8,1}</b>, str::<b>String</b>) in SHA at <a href=\"file:///Users/julia/buildbot/worker/package_macos64/build/usr/share/julia/stdlib/v1.5/SHA/src/SHA.jl\" target=\"_blank\">/Applications/Julia-1.5.app/Contents/Resources/julia/share/julia/stdlib/v1.5/SHA/src/SHA.jl:63</a><li> sha1(str::<b>String</b>) in SHA at <a href=\"file:///Users/julia/buildbot/worker/package_macos64/build/usr/share/julia/stdlib/v1.5/SHA/src/SHA.jl\" target=\"_blank\">/Applications/Julia-1.5.app/Contents/Resources/julia/share/julia/stdlib/v1.5/SHA/src/SHA.jl:61</a><li> sha224(str::<b>String</b>) in SHA at <a href=\"file:///Users/julia/buildbot/worker/package_macos64/build/usr/share/julia/stdlib/v1.5/SHA/src/SHA.jl\" target=\"_blank\">/Applications/Julia-1.5.app/Contents/Resources/julia/share/julia/stdlib/v1.5/SHA/src/SHA.jl:61</a><li> sha256(str::<b>String</b>) in SHA at <a href=\"file:///Users/julia/buildbot/worker/package_macos64/build/usr/share/julia/stdlib/v1.5/SHA/src/SHA.jl\" target=\"_blank\">/Applications/Julia-1.5.app/Contents/Resources/julia/share/julia/stdlib/v1.5/SHA/src/SHA.jl:61</a><li> sha2_224(str::<b>String</b>) in SHA at <a href=\"file:///Users/julia/buildbot/worker/package_macos64/build/usr/share/julia/stdlib/v1.5/SHA/src/SHA.jl\" target=\"_blank\">/Applications/Julia-1.5.app/Contents/Resources/julia/share/julia/stdlib/v1.5/SHA/src/SHA.jl:61</a><li> sha2_256(str::<b>String</b>) in SHA at <a href=\"file:///Users/julia/buildbot/worker/package_macos64/build/usr/share/julia/stdlib/v1.5/SHA/src/SHA.jl\" target=\"_blank\">/Applications/Julia-1.5.app/Contents/Resources/julia/share/julia/stdlib/v1.5/SHA/src/SHA.jl:61</a><li> sha2_384(str::<b>String</b>) in SHA at <a href=\"file:///Users/julia/buildbot/worker/package_macos64/build/usr/share/julia/stdlib/v1.5/SHA/src/SHA.jl\" target=\"_blank\">/Applications/Julia-1.5.app/Contents/Resources/julia/share/julia/stdlib/v1.5/SHA/src/SHA.jl:61</a><li> sha2_512(str::<b>String</b>) in SHA at <a href=\"file:///Users/julia/buildbot/worker/package_macos64/build/usr/share/julia/stdlib/v1.5/SHA/src/SHA.jl\" target=\"_blank\">/Applications/Julia-1.5.app/Contents/Resources/julia/share/julia/stdlib/v1.5/SHA/src/SHA.jl:61</a><li> sha384(str::<b>String</b>) in SHA at <a href=\"file:///Users/julia/buildbot/worker/package_macos64/build/usr/share/julia/stdlib/v1.5/SHA/src/SHA.jl\" target=\"_blank\">/Applications/Julia-1.5.app/Contents/Resources/julia/share/julia/stdlib/v1.5/SHA/src/SHA.jl:61</a><li> sha3_224(str::<b>String</b>) in SHA at <a href=\"file:///Users/julia/buildbot/worker/package_macos64/build/usr/share/julia/stdlib/v1.5/SHA/src/SHA.jl\" target=\"_blank\">/Applications/Julia-1.5.app/Contents/Resources/julia/share/julia/stdlib/v1.5/SHA/src/SHA.jl:61</a><li> sha3_256(str::<b>String</b>) in SHA at <a href=\"file:///Users/julia/buildbot/worker/package_macos64/build/usr/share/julia/stdlib/v1.5/SHA/src/SHA.jl\" target=\"_blank\">/Applications/Julia-1.5.app/Contents/Resources/julia/share/julia/stdlib/v1.5/SHA/src/SHA.jl:61</a><li> sha3_384(str::<b>String</b>) in SHA at <a href=\"file:///Users/julia/buildbot/worker/package_macos64/build/usr/share/julia/stdlib/v1.5/SHA/src/SHA.jl\" target=\"_blank\">/Applications/Julia-1.5.app/Contents/Resources/julia/share/julia/stdlib/v1.5/SHA/src/SHA.jl:61</a><li> sha3_512(str::<b>String</b>) in SHA at <a href=\"file:///Users/julia/buildbot/worker/package_macos64/build/usr/share/julia/stdlib/v1.5/SHA/src/SHA.jl\" target=\"_blank\">/Applications/Julia-1.5.app/Contents/Resources/julia/share/julia/stdlib/v1.5/SHA/src/SHA.jl:61</a><li> sha512(str::<b>String</b>) in SHA at <a href=\"file:///Users/julia/buildbot/worker/package_macos64/build/usr/share/julia/stdlib/v1.5/SHA/src/SHA.jl\" target=\"_blank\">/Applications/Julia-1.5.app/Contents/Resources/julia/share/julia/stdlib/v1.5/SHA/src/SHA.jl:61</a><li> unwatch_folder(s::<b>String</b>) in FileWatching at <a href=\"file:///Users/julia/buildbot/worker/package_macos64/build/usr/share/julia/stdlib/v1.5/FileWatching/src/FileWatching.jl\" target=\"_blank\">/Applications/Julia-1.5.app/Contents/Resources/julia/share/julia/stdlib/v1.5/FileWatching/src/FileWatching.jl:758</a><li> watch_folder(s::<b>String</b>) in FileWatching at <a href=\"file:///Users/julia/buildbot/worker/package_macos64/build/usr/share/julia/stdlib/v1.5/FileWatching/src/FileWatching.jl\" target=\"_blank\">/Applications/Julia-1.5.app/Contents/Resources/julia/share/julia/stdlib/v1.5/FileWatching/src/FileWatching.jl:716</a><li> watch_folder(s::<b>String</b>, timeout_s::<b>Real</b>) in FileWatching at <a href=\"file:///Users/julia/buildbot/worker/package_macos64/build/usr/share/julia/stdlib/v1.5/FileWatching/src/FileWatching.jl\" target=\"_blank\">/Applications/Julia-1.5.app/Contents/Resources/julia/share/julia/stdlib/v1.5/FileWatching/src/FileWatching.jl:716</a><li> serialize(s::<b>Serialization.AbstractSerializer</b>, ss::<b>String</b>) in Serialization at <a href=\"file:///Users/julia/buildbot/worker/package_macos64/build/usr/share/julia/stdlib/v1.5/Serialization/src/Serialization.jl\" target=\"_blank\">/Applications/Julia-1.5.app/Contents/Resources/julia/share/julia/stdlib/v1.5/Serialization/src/Serialization.jl:287</a><li> vparse(s_::<b>String</b>) in VersionParsing at <a href=\"file:///Users/zhonghaowen/.julia/packages/VersionParsing/NoBGW/src/VersionParsing.jl\" target=\"_blank\">/Users/zhonghaowen/.julia/packages/VersionParsing/NoBGW/src/VersionParsing.jl:39</a><li> ==(a::<b>String</b>, b::<b>String</b>) in Base at <a href=\"https://github.com/JuliaLang/julia/tree/788b2c77c10c2160f4794a4d4b6b81a95a90940c/base/strings/string.jl#L105\" target=\"_blank\">strings/string.jl:105</a><li> abspath(a::<b>String</b>) in Base.Filesystem at <a href=\"https://github.com/JuliaLang/julia/tree/788b2c77c10c2160f4794a4d4b6b81a95a90940c/base/path.jl#L383\" target=\"_blank\">path.jl:383</a><li> ascii(s::<b>String</b>) in Base at <a href=\"https://github.com/JuliaLang/julia/tree/788b2c77c10c2160f4794a4d4b6b81a95a90940c/base/strings/util.jl#L679\" target=\"_blank\">strings/util.jl:679</a><li> chomp(s::<b>String</b>) in Base at <a href=\"https://github.com/JuliaLang/julia/tree/788b2c77c10c2160f4794a4d4b6b81a95a90940c/base/strings/util.jl#L192\" target=\"_blank\">strings/util.jl:192</a><li> cmp(a::<b>String</b>, b::<b>String</b>) in Base at <a href=\"https://github.com/JuliaLang/julia/tree/788b2c77c10c2160f4794a4d4b6b81a95a90940c/base/strings/string.jl#L99\" target=\"_blank\">strings/string.jl:99</a><li> codeunit(s::<b>String</b>) in Base at <a href=\"https://github.com/JuliaLang/julia/tree/788b2c77c10c2160f4794a4d4b6b81a95a90940c/base/strings/string.jl#L86\" target=\"_blank\">strings/string.jl:86</a><li> codeunit(s::<b>String</b>, i::<b>Integer</b>) in Base at <a href=\"https://github.com/JuliaLang/julia/tree/788b2c77c10c2160f4794a4d4b6b81a95a90940c/base/strings/string.jl#L88\" target=\"_blank\">strings/string.jl:88</a><li> dump(io::<b>IOContext</b>, x::<b>String</b>, n::<b>Int64</b>, indent) in Base at <a href=\"https://github.com/JuliaLang/julia/tree/788b2c77c10c2160f4794a4d4b6b81a95a90940c/base/show.jl#L1967\" target=\"_blank\">show.jl:1967</a><li> endswith(a::<b>Union{SubString{String}, String}</b>, b::<b>Union{SubString{String}, String}</b>) in Base at <a href=\"https://github.com/JuliaLang/julia/tree/788b2c77c10c2160f4794a4d4b6b81a95a90940c/base/strings/util.jl#L60\" target=\"_blank\">strings/util.jl:60</a><li> filter(f, s::<b>String</b>) in Base at <a href=\"https://github.com/JuliaLang/julia/tree/788b2c77c10c2160f4794a4d4b6b81a95a90940c/base/strings/string.jl#L352\" target=\"_blank\">strings/string.jl:352</a><li> findall(path::<b>String</b>, idx::<b>LibGit2.GitIndex</b>) in LibGit2 at <a href=\"file:///Users/julia/buildbot/worker/package_macos64/build/usr/share/julia/stdlib/v1.5/LibGit2/src/index.jl\" target=\"_blank\">/Applications/Julia-1.5.app/Contents/Resources/julia/share/julia/stdlib/v1.5/LibGit2/src/index.jl:191</a><li> findnext(re::<b>Regex</b>, str::<b>Union{String, SubString}</b>, idx::<b>Integer</b>) in Base at <a href=\"https://github.com/JuliaLang/julia/tree/788b2c77c10c2160f4794a4d4b6b81a95a90940c/base/regex.jl#L299\" target=\"_blank\">regex.jl:299</a><li> findnext(pred::<b>Base.Fix2{var\"#s91\",var\"#s90\"} where var\"#s90\"<:AbstractChar where var\"#s91\"<:Union{typeof(==), typeof(isequal)}</b>, s::<b>String</b>, i::<b>Integer</b>) in Base at <a href=\"https://github.com/JuliaLang/julia/tree/788b2c77c10c2160f4794a4d4b6b81a95a90940c/base/strings/search.jl#L5\" target=\"_blank\">strings/search.jl:5</a><li> findprev(pred::<b>Base.Fix2{var\"#s91\",var\"#s90\"} where var\"#s90\"<:AbstractChar where var\"#s91\"<:Union{typeof(==), typeof(isequal)}</b>, s::<b>String</b>, i::<b>Integer</b>) in Base at <a href=\"https://github.com/JuliaLang/julia/tree/788b2c77c10c2160f4794a4d4b6b81a95a90940c/base/strings/search.jl#L49\" target=\"_blank\">strings/search.jl:49</a><li> gensym(s::<b>String</b>) in Base at <a href=\"https://github.com/JuliaLang/julia/tree/788b2c77c10c2160f4794a4d4b6b81a95a90940c/base/expr.jl#L12\" target=\"_blank\">expr.jl:12</a><li> getindex(s::<b>String</b>, r::<b>UnitRange{Int64}</b>) in Base at <a href=\"https://github.com/JuliaLang/julia/tree/788b2c77c10c2160f4794a4d4b6b81a95a90940c/base/strings/string.jl#L244\" target=\"_blank\">strings/string.jl:244</a><li> getindex(s::<b>String</b>, i::<b>Int64</b>) in Base at <a href=\"https://github.com/JuliaLang/julia/tree/788b2c77c10c2160f4794a4d4b6b81a95a90940c/base/strings/string.jl#L209\" target=\"_blank\">strings/string.jl:209</a><li> getindex(s::<b>String</b>, r::<b>UnitRange{var\"#s91\"} where var\"#s91\"<:Integer</b>) in Base at <a href=\"https://github.com/JuliaLang/julia/tree/788b2c77c10c2160f4794a4d4b6b81a95a90940c/base/strings/string.jl#L242\" target=\"_blank\">strings/string.jl:242</a><li> hash(s::<b>Union{SubString{String}, String}</b>, h::<b>UInt64</b>) in Base at <a href=\"https://github.com/JuliaLang/julia/tree/788b2c77c10c2160f4794a4d4b6b81a95a90940c/base/hashing2.jl#L239\" target=\"_blank\">hashing2.jl:239</a><li> hex2bytes(s::<b>Union{AbstractArray{UInt8,1}, String}</b>) in Base at <a href=\"https://github.com/JuliaLang/julia/tree/788b2c77c10c2160f4794a4d4b6b81a95a90940c/base/strings/util.jl#L608\" target=\"_blank\">strings/util.jl:608</a><li> hex2bytes!(d::<b>AbstractArray{UInt8,1}</b>, s::<b>Union{AbstractArray{UInt8,1}, String}</b>) in Base at <a href=\"https://github.com/JuliaLang/julia/tree/788b2c77c10c2160f4794a4d4b6b81a95a90940c/base/strings/util.jl#L622\" target=\"_blank\">strings/util.jl:622</a><li> isascii(s::<b>String</b>) in Base at <a href=\"https://github.com/JuliaLang/julia/tree/788b2c77c10c2160f4794a4d4b6b81a95a90940c/base/strings/string.jl#L301\" target=\"_blank\">strings/string.jl:301</a><li> isdirpath(path::<b>String</b>) in Base.Filesystem at <a href=\"https://github.com/JuliaLang/julia/tree/788b2c77c10c2160f4794a4d4b6b81a95a90940c/base/path.jl#L117\" target=\"_blank\">path.jl:117</a><li> isvalid(s::<b>String</b>, i::<b>Int64</b>) in Base at <a href=\"https://github.com/JuliaLang/julia/tree/788b2c77c10c2160f4794a4d4b6b81a95a90940c/base/strings/string.jl#L299\" target=\"_blank\">strings/string.jl:299</a><li> isvalid(s::<b>String</b>) in Base at <a href=\"https://github.com/JuliaLang/julia/tree/788b2c77c10c2160f4794a4d4b6b81a95a90940c/base/strings/string.jl#L173\" target=\"_blank\">strings/string.jl:173</a><li> isvalid(::<b>Type{String}</b>, s::<b>Union{Array{UInt8,1}, String}</b>) in Base at <a href=\"https://github.com/JuliaLang/julia/tree/788b2c77c10c2160f4794a4d4b6b81a95a90940c/base/strings/string.jl#L172\" target=\"_blank\">strings/string.jl:172</a><li> iterate(s::<b>String</b>, i::<b>Int64</b>) in Base at <a href=\"https://github.com/JuliaLang/julia/tree/788b2c77c10c2160f4794a4d4b6b81a95a90940c/base/strings/string.jl#L179\" target=\"_blank\">strings/string.jl:179</a><li> iterate(s::<b>String</b>) in Base at <a href=\"https://github.com/JuliaLang/julia/tree/788b2c77c10c2160f4794a4d4b6b81a95a90940c/base/strings/string.jl#L179\" target=\"_blank\">strings/string.jl:179</a><li> length(s::<b>String</b>, i::<b>Int64</b>, j::<b>Int64</b>) in Base at <a href=\"https://github.com/JuliaLang/julia/tree/788b2c77c10c2160f4794a4d4b6b81a95a90940c/base/strings/string.jl#L261\" target=\"_blank\">strings/string.jl:261</a><li> length(s::<b>String</b>) in Base at <a href=\"https://github.com/JuliaLang/julia/tree/788b2c77c10c2160f4794a4d4b6b81a95a90940c/base/strings/string.jl#L259\" target=\"_blank\">strings/string.jl:259</a><li> match(re::<b>Regex</b>, str::<b>Union{SubString{String}, String}</b>, idx::<b>Integer</b>) in Base at <a href=\"https://github.com/JuliaLang/julia/tree/788b2c77c10c2160f4794a4d4b6b81a95a90940c/base/regex.jl#L274\" target=\"_blank\">regex.jl:274</a><li> match(re::<b>Regex</b>, str::<b>Union{SubString{String}, String}</b>, idx::<b>Integer</b>, add_opts::<b>UInt32</b>) in Base at <a href=\"https://github.com/JuliaLang/julia/tree/788b2c77c10c2160f4794a4d4b6b81a95a90940c/base/regex.jl#L274\" target=\"_blank\">regex.jl:274</a><li> ncodeunits(s::<b>String</b>) in Base at <a href=\"https://github.com/JuliaLang/julia/tree/788b2c77c10c2160f4794a4d4b6b81a95a90940c/base/strings/string.jl#L84\" target=\"_blank\">strings/string.jl:84</a><li> nextind(s::<b>String</b>, i::<b>Int64</b>) in Base at <a href=\"https://github.com/JuliaLang/julia/tree/788b2c77c10c2160f4794a4d4b6b81a95a90940c/base/strings/string.jl#L137\" target=\"_blank\">strings/string.jl:137</a><li> normpath(path::<b>String</b>) in Base.Filesystem at <a href=\"https://github.com/JuliaLang/julia/tree/788b2c77c10c2160f4794a4d4b6b81a95a90940c/base/path.jl#L335\" target=\"_blank\">path.jl:335</a><li> pointer(s::<b>String</b>) in Base at <a href=\"https://github.com/JuliaLang/julia/tree/788b2c77c10c2160f4794a4d4b6b81a95a90940c/base/strings/string.jl#L81\" target=\"_blank\">strings/string.jl:81</a><li> pointer(s::<b>String</b>, i::<b>Integer</b>) in Base at <a href=\"https://github.com/JuliaLang/julia/tree/788b2c77c10c2160f4794a4d4b6b81a95a90940c/base/strings/string.jl#L82\" target=\"_blank\">strings/string.jl:82</a><li> print(io::<b>IO</b>, s::<b>Union{SubString{String}, String}</b>) in Base at <a href=\"https://github.com/JuliaLang/julia/tree/788b2c77c10c2160f4794a4d4b6b81a95a90940c/base/strings/io.jl#L185\" target=\"_blank\">strings/io.jl:185</a><li> relpath(path::<b>String</b>, startpath::<b>String</b>) in Base.Filesystem at <a href=\"https://github.com/JuliaLang/julia/tree/788b2c77c10c2160f4794a4d4b6b81a95a90940c/base/path.jl#L489\" target=\"_blank\">path.jl:489</a><li> relpath(path::<b>String</b>) in Base.Filesystem at <a href=\"https://github.com/JuliaLang/julia/tree/788b2c77c10c2160f4794a4d4b6b81a95a90940c/base/path.jl#L489\" target=\"_blank\">path.jl:489</a><li> repeat(s::<b>Union{SubString{String}, String}</b>, r::<b>Integer</b>) in Base at <a href=\"https://github.com/JuliaLang/julia/tree/788b2c77c10c2160f4794a4d4b6b81a95a90940c/base/strings/substring.jl#L199\" target=\"_blank\">strings/substring.jl:199</a><li> replace(str::<b>String</b>, pat_repl::<b>Pair{var\"#s89\",B} where B where var\"#s89\"<:AbstractChar</b>; <i>count</i>) in Base at <a href=\"https://github.com/JuliaLang/julia/tree/788b2c77c10c2160f4794a4d4b6b81a95a90940c/base/strings/util.jl#L489\" target=\"_blank\">strings/util.jl:489</a><li> replace(str::<b>String</b>, pat_repl::<b>Pair{var\"#s86\",B} where B where var\"#s86\"<:Union{Tuple{Vararg{AbstractChar,N} where N}, Set{var\"#s83\"} where var\"#s83\"<:AbstractChar, AbstractArray{var\"#s84\",1} where var\"#s84\"<:AbstractChar}</b>; <i>count</i>) in Base at <a href=\"https://github.com/JuliaLang/julia/tree/788b2c77c10c2160f4794a4d4b6b81a95a90940c/base/strings/util.jl#L494\" target=\"_blank\">strings/util.jl:494</a><li> replace(str::<b>String</b>, pat_repl::<b>Pair</b>; <i>count</i>) in Base at <a href=\"https://github.com/JuliaLang/julia/tree/788b2c77c10c2160f4794a4d4b6b81a95a90940c/base/strings/util.jl#L500\" target=\"_blank\">strings/util.jl:500</a><li> reverse(s::<b>Union{SubString{String}, String}</b>) in Base at <a href=\"https://github.com/JuliaLang/julia/tree/788b2c77c10c2160f4794a4d4b6b81a95a90940c/base/strings/substring.jl#L144\" target=\"_blank\">strings/substring.jl:144</a><li> sizeof(s::<b>String</b>) in Base at <a href=\"https://github.com/JuliaLang/julia/tree/788b2c77c10c2160f4794a4d4b6b81a95a90940c/base/strings/string.jl#L85\" target=\"_blank\">strings/string.jl:85</a><li> splitdir(path::<b>String</b>) in Base.Filesystem at <a href=\"https://github.com/JuliaLang/julia/tree/788b2c77c10c2160f4794a4d4b6b81a95a90940c/base/path.jl#L130\" target=\"_blank\">path.jl:130</a><li> splitdrive(path::<b>String</b>) in Base.Filesystem at <a href=\"https://github.com/JuliaLang/julia/tree/788b2c77c10c2160f4794a4d4b6b81a95a90940c/base/path.jl#L28\" target=\"_blank\">path.jl:28</a><li> splitext(path::<b>String</b>) in Base.Filesystem at <a href=\"https://github.com/JuliaLang/julia/tree/788b2c77c10c2160f4794a4d4b6b81a95a90940c/base/path.jl#L194\" target=\"_blank\">path.jl:194</a><li> splitpath(p::<b>String</b>) in Base.Filesystem at <a href=\"https://github.com/JuliaLang/julia/tree/788b2c77c10c2160f4794a4d4b6b81a95a90940c/base/path.jl#L226\" target=\"_blank\">path.jl:226</a><li> startswith(a::<b>Union{SubString{String}, String}</b>, b::<b>Union{SubString{String}, String}</b>) in Base at <a href=\"https://github.com/JuliaLang/julia/tree/788b2c77c10c2160f4794a4d4b6b81a95a90940c/base/strings/util.jl#L48\" target=\"_blank\">strings/util.jl:48</a><li> string(a::<b>String</b>) in Base at <a href=\"https://github.com/JuliaLang/julia/tree/788b2c77c10c2160f4794a4d4b6b81a95a90940c/base/strings/substring.jl#L155\" target=\"_blank\">strings/substring.jl:155</a><li> thisind(s::<b>String</b>, i::<b>Int64</b>) in Base at <a href=\"https://github.com/JuliaLang/julia/tree/788b2c77c10c2160f4794a4d4b6b81a95a90940c/base/strings/string.jl#L116\" target=\"_blank\">strings/string.jl:116</a><li> transcode(::<b>Type{String}</b>, src::<b>String</b>) in Base at <a href=\"https://github.com/JuliaLang/julia/tree/788b2c77c10c2160f4794a4d4b6b81a95a90940c/base/c.jl#L290\" target=\"_blank\">c.jl:290</a><li> transcode(::<b>Type{T}</b>, src::<b>String</b>)<i> where T<:Union{Int32, UInt32}</i> in Base at <a href=\"https://github.com/JuliaLang/julia/tree/788b2c77c10c2160f4794a4d4b6b81a95a90940c/base/c.jl#L277\" target=\"_blank\">c.jl:277</a><li> transcode(T, src::<b>String</b>) in Base at <a href=\"https://github.com/JuliaLang/julia/tree/788b2c77c10c2160f4794a4d4b6b81a95a90940c/base/c.jl#L291\" target=\"_blank\">c.jl:291</a><li> tryparse(::<b>Type{Float64}</b>, s::<b>String</b>) in Base at <a href=\"https://github.com/JuliaLang/julia/tree/788b2c77c10c2160f4794a4d4b6b81a95a90940c/base/parse.jl#L244\" target=\"_blank\">parse.jl:244</a><li> tryparse(::<b>Type{Float32}</b>, s::<b>String</b>) in Base at <a href=\"https://github.com/JuliaLang/julia/tree/788b2c77c10c2160f4794a4d4b6b81a95a90940c/base/parse.jl#L264\" target=\"_blank\">parse.jl:264</a><li> typemin(::<b>String</b>) in Base at <a href=\"https://github.com/JuliaLang/julia/tree/788b2c77c10c2160f4794a4d4b6b81a95a90940c/base/strings/string.jl#L112\" target=\"_blank\">strings/string.jl:112</a><li> unsafe_wrap(::<b>Type{Array{UInt8,1}}</b>, s::<b>String</b>) in Base at <a href=\"https://github.com/JuliaLang/julia/tree/788b2c77c10c2160f4794a4d4b6b81a95a90940c/base/strings/string.jl#L71\" target=\"_blank\">strings/string.jl:71</a><li> write(io::<b>IO</b>, s::<b>Union{SubString{String}, String}</b>) in Base at <a href=\"https://github.com/JuliaLang/julia/tree/788b2c77c10c2160f4794a4d4b6b81a95a90940c/base/strings/io.jl#L183\" target=\"_blank\">strings/io.jl:183</a><li> getaddrinfo(host::<b>String</b>, T::<b>Type{var\"#s828\"} where var\"#s828\"<:Sockets.IPAddr</b>) in Sockets at <a href=\"file:///Users/julia/buildbot/worker/package_macos64/build/usr/share/julia/stdlib/v1.5/Sockets/src/addrinfo.jl\" target=\"_blank\">/Applications/Julia-1.5.app/Contents/Resources/julia/share/julia/stdlib/v1.5/Sockets/src/addrinfo.jl:129</a><li> getalladdrinfo(host::<b>String</b>) in Sockets at <a href=\"file:///Users/julia/buildbot/worker/package_macos64/build/usr/share/julia/stdlib/v1.5/Sockets/src/addrinfo.jl\" target=\"_blank\">/Applications/Julia-1.5.app/Contents/Resources/julia/share/julia/stdlib/v1.5/Sockets/src/addrinfo.jl:66</a><li> join_multicast_group(sock::<b>Sockets.UDPSocket</b>, group_addr::<b>String</b>) in Sockets at <a href=\"file:///Users/julia/buildbot/worker/package_macos64/build/usr/share/julia/stdlib/v1.5/Sockets/src/Sockets.jl\" target=\"_blank\">/Applications/Julia-1.5.app/Contents/Resources/julia/share/julia/stdlib/v1.5/Sockets/src/Sockets.jl:751</a><li> join_multicast_group(sock::<b>Sockets.UDPSocket</b>, group_addr::<b>String</b>, interface_addr::<b>Union{Nothing, String}</b>) in Sockets at <a href=\"file:///Users/julia/buildbot/worker/package_macos64/build/usr/share/julia/stdlib/v1.5/Sockets/src/Sockets.jl\" target=\"_blank\">/Applications/Julia-1.5.app/Contents/Resources/julia/share/julia/stdlib/v1.5/Sockets/src/Sockets.jl:751</a><li> leave_multicast_group(sock::<b>Sockets.UDPSocket</b>, group_addr::<b>String</b>) in Sockets at <a href=\"file:///Users/julia/buildbot/worker/package_macos64/build/usr/share/julia/stdlib/v1.5/Sockets/src/Sockets.jl\" target=\"_blank\">/Applications/Julia-1.5.app/Contents/Resources/julia/share/julia/stdlib/v1.5/Sockets/src/Sockets.jl:770</a><li> leave_multicast_group(sock::<b>Sockets.UDPSocket</b>, group_addr::<b>String</b>, interface_addr::<b>Union{Nothing, String}</b>) in Sockets at <a href=\"file:///Users/julia/buildbot/worker/package_macos64/build/usr/share/julia/stdlib/v1.5/Sockets/src/Sockets.jl\" target=\"_blank\">/Applications/Julia-1.5.app/Contents/Resources/julia/share/julia/stdlib/v1.5/Sockets/src/Sockets.jl:770</a></ul>"
      ],
      "text/plain": [
       "[1] uuid5(ns::Base.UUID, name::String) in UUIDs at /Applications/Julia-1.5.app/Contents/Resources/julia/share/julia/stdlib/v1.5/UUIDs/src/UUIDs.jl:117\n",
       "[2] crc32c(s::String, crc::UInt32) in CRC32c at /Applications/Julia-1.5.app/Contents/Resources/julia/share/julia/stdlib/v1.5/CRC32c/src/CRC32c.jl:39\n",
       "[3] crc32c(s::String) in CRC32c at /Applications/Julia-1.5.app/Contents/Resources/julia/share/julia/stdlib/v1.5/CRC32c/src/CRC32c.jl:39\n",
       "[4] subscribe(socket::ZMQ.Socket, filter::Union{Array{UInt8,1}, String}) in ZMQ at /Users/zhonghaowen/.julia/packages/ZMQ/R3wSD/src/sockopts.jl:75\n",
       "[5] unsubscribe(socket::ZMQ.Socket, filter::Union{Array{UInt8,1}, String}) in ZMQ at /Users/zhonghaowen/.julia/packages/ZMQ/R3wSD/src/sockopts.jl:75\n",
       "[6] @pkg_str(__source__::LineNumberNode, __module__::Module, str::String) in Pkg.REPLMode at /Applications/Julia-1.5.app/Contents/Resources/julia/share/julia/stdlib/v1.5/Pkg/src/REPLMode/REPLMode.jl:460\n",
       "[7] hmac_sha1(key::Array{UInt8,1}, str::String) in SHA at /Applications/Julia-1.5.app/Contents/Resources/julia/share/julia/stdlib/v1.5/SHA/src/SHA.jl:63\n",
       "[8] hmac_sha224(key::Array{UInt8,1}, str::String) in SHA at /Applications/Julia-1.5.app/Contents/Resources/julia/share/julia/stdlib/v1.5/SHA/src/SHA.jl:63\n",
       "[9] hmac_sha256(key::Array{UInt8,1}, str::String) in SHA at /Applications/Julia-1.5.app/Contents/Resources/julia/share/julia/stdlib/v1.5/SHA/src/SHA.jl:63\n",
       "[10] hmac_sha2_224(key::Array{UInt8,1}, str::String) in SHA at /Applications/Julia-1.5.app/Contents/Resources/julia/share/julia/stdlib/v1.5/SHA/src/SHA.jl:63\n",
       "[11] hmac_sha2_256(key::Array{UInt8,1}, str::String) in SHA at /Applications/Julia-1.5.app/Contents/Resources/julia/share/julia/stdlib/v1.5/SHA/src/SHA.jl:63\n",
       "[12] hmac_sha2_384(key::Array{UInt8,1}, str::String) in SHA at /Applications/Julia-1.5.app/Contents/Resources/julia/share/julia/stdlib/v1.5/SHA/src/SHA.jl:63\n",
       "[13] hmac_sha2_512(key::Array{UInt8,1}, str::String) in SHA at /Applications/Julia-1.5.app/Contents/Resources/julia/share/julia/stdlib/v1.5/SHA/src/SHA.jl:63\n",
       "[14] hmac_sha384(key::Array{UInt8,1}, str::String) in SHA at /Applications/Julia-1.5.app/Contents/Resources/julia/share/julia/stdlib/v1.5/SHA/src/SHA.jl:63\n",
       "[15] hmac_sha3_224(key::Array{UInt8,1}, str::String) in SHA at /Applications/Julia-1.5.app/Contents/Resources/julia/share/julia/stdlib/v1.5/SHA/src/SHA.jl:63\n",
       "[16] hmac_sha3_256(key::Array{UInt8,1}, str::String) in SHA at /Applications/Julia-1.5.app/Contents/Resources/julia/share/julia/stdlib/v1.5/SHA/src/SHA.jl:63\n",
       "[17] hmac_sha3_384(key::Array{UInt8,1}, str::String) in SHA at /Applications/Julia-1.5.app/Contents/Resources/julia/share/julia/stdlib/v1.5/SHA/src/SHA.jl:63\n",
       "[18] hmac_sha3_512(key::Array{UInt8,1}, str::String) in SHA at /Applications/Julia-1.5.app/Contents/Resources/julia/share/julia/stdlib/v1.5/SHA/src/SHA.jl:63\n",
       "[19] hmac_sha512(key::Array{UInt8,1}, str::String) in SHA at /Applications/Julia-1.5.app/Contents/Resources/julia/share/julia/stdlib/v1.5/SHA/src/SHA.jl:63\n",
       "[20] sha1(str::String) in SHA at /Applications/Julia-1.5.app/Contents/Resources/julia/share/julia/stdlib/v1.5/SHA/src/SHA.jl:61\n",
       "[21] sha224(str::String) in SHA at /Applications/Julia-1.5.app/Contents/Resources/julia/share/julia/stdlib/v1.5/SHA/src/SHA.jl:61\n",
       "[22] sha256(str::String) in SHA at /Applications/Julia-1.5.app/Contents/Resources/julia/share/julia/stdlib/v1.5/SHA/src/SHA.jl:61\n",
       "[23] sha2_224(str::String) in SHA at /Applications/Julia-1.5.app/Contents/Resources/julia/share/julia/stdlib/v1.5/SHA/src/SHA.jl:61\n",
       "[24] sha2_256(str::String) in SHA at /Applications/Julia-1.5.app/Contents/Resources/julia/share/julia/stdlib/v1.5/SHA/src/SHA.jl:61\n",
       "[25] sha2_384(str::String) in SHA at /Applications/Julia-1.5.app/Contents/Resources/julia/share/julia/stdlib/v1.5/SHA/src/SHA.jl:61\n",
       "[26] sha2_512(str::String) in SHA at /Applications/Julia-1.5.app/Contents/Resources/julia/share/julia/stdlib/v1.5/SHA/src/SHA.jl:61\n",
       "[27] sha384(str::String) in SHA at /Applications/Julia-1.5.app/Contents/Resources/julia/share/julia/stdlib/v1.5/SHA/src/SHA.jl:61\n",
       "[28] sha3_224(str::String) in SHA at /Applications/Julia-1.5.app/Contents/Resources/julia/share/julia/stdlib/v1.5/SHA/src/SHA.jl:61\n",
       "[29] sha3_256(str::String) in SHA at /Applications/Julia-1.5.app/Contents/Resources/julia/share/julia/stdlib/v1.5/SHA/src/SHA.jl:61\n",
       "[30] sha3_384(str::String) in SHA at /Applications/Julia-1.5.app/Contents/Resources/julia/share/julia/stdlib/v1.5/SHA/src/SHA.jl:61\n",
       "[31] sha3_512(str::String) in SHA at /Applications/Julia-1.5.app/Contents/Resources/julia/share/julia/stdlib/v1.5/SHA/src/SHA.jl:61\n",
       "[32] sha512(str::String) in SHA at /Applications/Julia-1.5.app/Contents/Resources/julia/share/julia/stdlib/v1.5/SHA/src/SHA.jl:61\n",
       "[33] unwatch_folder(s::String) in FileWatching at /Applications/Julia-1.5.app/Contents/Resources/julia/share/julia/stdlib/v1.5/FileWatching/src/FileWatching.jl:758\n",
       "[34] watch_folder(s::String) in FileWatching at /Applications/Julia-1.5.app/Contents/Resources/julia/share/julia/stdlib/v1.5/FileWatching/src/FileWatching.jl:716\n",
       "[35] watch_folder(s::String, timeout_s::Real) in FileWatching at /Applications/Julia-1.5.app/Contents/Resources/julia/share/julia/stdlib/v1.5/FileWatching/src/FileWatching.jl:716\n",
       "[36] serialize(s::Serialization.AbstractSerializer, ss::String) in Serialization at /Applications/Julia-1.5.app/Contents/Resources/julia/share/julia/stdlib/v1.5/Serialization/src/Serialization.jl:287\n",
       "[37] vparse(s_::String) in VersionParsing at /Users/zhonghaowen/.julia/packages/VersionParsing/NoBGW/src/VersionParsing.jl:39\n",
       "[38] ==(a::String, b::String) in Base at strings/string.jl:105\n",
       "[39] abspath(a::String) in Base.Filesystem at path.jl:383\n",
       "[40] ascii(s::String) in Base at strings/util.jl:679\n",
       "[41] chomp(s::String) in Base at strings/util.jl:192\n",
       "[42] cmp(a::String, b::String) in Base at strings/string.jl:99\n",
       "[43] codeunit(s::String) in Base at strings/string.jl:86\n",
       "[44] codeunit(s::String, i::Integer) in Base at strings/string.jl:88\n",
       "[45] dump(io::IOContext, x::String, n::Int64, indent) in Base at show.jl:1967\n",
       "[46] endswith(a::Union{SubString{String}, String}, b::Union{SubString{String}, String}) in Base at strings/util.jl:60\n",
       "[47] filter(f, s::String) in Base at strings/string.jl:352\n",
       "[48] findall(path::String, idx::LibGit2.GitIndex) in LibGit2 at /Applications/Julia-1.5.app/Contents/Resources/julia/share/julia/stdlib/v1.5/LibGit2/src/index.jl:191\n",
       "[49] findnext(re::Regex, str::Union{String, SubString}, idx::Integer) in Base at regex.jl:299\n",
       "[50] findnext(pred::Base.Fix2{var\"#s91\",var\"#s90\"} where var\"#s90\"<:AbstractChar where var\"#s91\"<:Union{typeof(==), typeof(isequal)}, s::String, i::Integer) in Base at strings/search.jl:5\n",
       "[51] findprev(pred::Base.Fix2{var\"#s91\",var\"#s90\"} where var\"#s90\"<:AbstractChar where var\"#s91\"<:Union{typeof(==), typeof(isequal)}, s::String, i::Integer) in Base at strings/search.jl:49\n",
       "[52] gensym(s::String) in Base at expr.jl:12\n",
       "[53] getindex(s::String, r::UnitRange{Int64}) in Base at strings/string.jl:244\n",
       "[54] getindex(s::String, i::Int64) in Base at strings/string.jl:209\n",
       "[55] getindex(s::String, r::UnitRange{var\"#s91\"} where var\"#s91\"<:Integer) in Base at strings/string.jl:242\n",
       "[56] hash(s::Union{SubString{String}, String}, h::UInt64) in Base at hashing2.jl:239\n",
       "[57] hex2bytes(s::Union{AbstractArray{UInt8,1}, String}) in Base at strings/util.jl:608\n",
       "[58] hex2bytes!(d::AbstractArray{UInt8,1}, s::Union{AbstractArray{UInt8,1}, String}) in Base at strings/util.jl:622\n",
       "[59] isascii(s::String) in Base at strings/string.jl:301\n",
       "[60] isdirpath(path::String) in Base.Filesystem at path.jl:117\n",
       "[61] isvalid(s::String, i::Int64) in Base at strings/string.jl:299\n",
       "[62] isvalid(s::String) in Base at strings/string.jl:173\n",
       "[63] isvalid(::Type{String}, s::Union{Array{UInt8,1}, String}) in Base at strings/string.jl:172\n",
       "[64] iterate(s::String, i::Int64) in Base at strings/string.jl:179\n",
       "[65] iterate(s::String) in Base at strings/string.jl:179\n",
       "[66] length(s::String, i::Int64, j::Int64) in Base at strings/string.jl:261\n",
       "[67] length(s::String) in Base at strings/string.jl:259\n",
       "[68] match(re::Regex, str::Union{SubString{String}, String}, idx::Integer) in Base at regex.jl:274\n",
       "[69] match(re::Regex, str::Union{SubString{String}, String}, idx::Integer, add_opts::UInt32) in Base at regex.jl:274\n",
       "[70] ncodeunits(s::String) in Base at strings/string.jl:84\n",
       "[71] nextind(s::String, i::Int64) in Base at strings/string.jl:137\n",
       "[72] normpath(path::String) in Base.Filesystem at path.jl:335\n",
       "[73] pointer(s::String) in Base at strings/string.jl:81\n",
       "[74] pointer(s::String, i::Integer) in Base at strings/string.jl:82\n",
       "[75] print(io::IO, s::Union{SubString{String}, String}) in Base at strings/io.jl:185\n",
       "[76] relpath(path::String, startpath::String) in Base.Filesystem at path.jl:489\n",
       "[77] relpath(path::String) in Base.Filesystem at path.jl:489\n",
       "[78] repeat(s::Union{SubString{String}, String}, r::Integer) in Base at strings/substring.jl:199\n",
       "[79] replace(str::String, pat_repl::Pair{var\"#s89\",B} where B where var\"#s89\"<:AbstractChar; count) in Base at strings/util.jl:489\n",
       "[80] replace(str::String, pat_repl::Pair{var\"#s86\",B} where B where var\"#s86\"<:Union{Tuple{Vararg{AbstractChar,N} where N}, Set{var\"#s83\"} where var\"#s83\"<:AbstractChar, AbstractArray{var\"#s84\",1} where var\"#s84\"<:AbstractChar}; count) in Base at strings/util.jl:494\n",
       "[81] replace(str::String, pat_repl::Pair; count) in Base at strings/util.jl:500\n",
       "[82] reverse(s::Union{SubString{String}, String}) in Base at strings/substring.jl:144\n",
       "[83] sizeof(s::String) in Base at strings/string.jl:85\n",
       "[84] splitdir(path::String) in Base.Filesystem at path.jl:130\n",
       "[85] splitdrive(path::String) in Base.Filesystem at path.jl:28\n",
       "[86] splitext(path::String) in Base.Filesystem at path.jl:194\n",
       "[87] splitpath(p::String) in Base.Filesystem at path.jl:226\n",
       "[88] startswith(a::Union{SubString{String}, String}, b::Union{SubString{String}, String}) in Base at strings/util.jl:48\n",
       "[89] string(a::String) in Base at strings/substring.jl:155\n",
       "[90] thisind(s::String, i::Int64) in Base at strings/string.jl:116\n",
       "[91] transcode(::Type{String}, src::String) in Base at c.jl:290\n",
       "[92] transcode(::Type{T}, src::String) where T<:Union{Int32, UInt32} in Base at c.jl:277\n",
       "[93] transcode(T, src::String) in Base at c.jl:291\n",
       "[94] tryparse(::Type{Float64}, s::String) in Base at parse.jl:244\n",
       "[95] tryparse(::Type{Float32}, s::String) in Base at parse.jl:264\n",
       "[96] typemin(::String) in Base at strings/string.jl:112\n",
       "[97] unsafe_wrap(::Type{Array{UInt8,1}}, s::String) in Base at strings/string.jl:71\n",
       "[98] write(io::IO, s::Union{SubString{String}, String}) in Base at strings/io.jl:183\n",
       "[99] getaddrinfo(host::String, T::Type{var\"#s828\"} where var\"#s828\"<:Sockets.IPAddr) in Sockets at /Applications/Julia-1.5.app/Contents/Resources/julia/share/julia/stdlib/v1.5/Sockets/src/addrinfo.jl:129\n",
       "[100] getalladdrinfo(host::String) in Sockets at /Applications/Julia-1.5.app/Contents/Resources/julia/share/julia/stdlib/v1.5/Sockets/src/addrinfo.jl:66\n",
       "[101] join_multicast_group(sock::Sockets.UDPSocket, group_addr::String) in Sockets at /Applications/Julia-1.5.app/Contents/Resources/julia/share/julia/stdlib/v1.5/Sockets/src/Sockets.jl:751\n",
       "[102] join_multicast_group(sock::Sockets.UDPSocket, group_addr::String, interface_addr::Union{Nothing, String}) in Sockets at /Applications/Julia-1.5.app/Contents/Resources/julia/share/julia/stdlib/v1.5/Sockets/src/Sockets.jl:751\n",
       "[103] leave_multicast_group(sock::Sockets.UDPSocket, group_addr::String) in Sockets at /Applications/Julia-1.5.app/Contents/Resources/julia/share/julia/stdlib/v1.5/Sockets/src/Sockets.jl:770\n",
       "[104] leave_multicast_group(sock::Sockets.UDPSocket, group_addr::String, interface_addr::Union{Nothing, String}) in Sockets at /Applications/Julia-1.5.app/Contents/Resources/julia/share/julia/stdlib/v1.5/Sockets/src/Sockets.jl:770"
      ]
     },
     "execution_count": 213,
     "metadata": {},
     "output_type": "execute_result"
    }
   ],
   "source": [
    "methodswith(String)"
   ]
  },
  {
   "cell_type": "code",
   "execution_count": 216,
   "metadata": {},
   "outputs": [
    {
     "data": {
      "text/plain": [
       "\"I love Jolia\""
      ]
     },
     "execution_count": 216,
     "metadata": {},
     "output_type": "execute_result"
    }
   ],
   "source": [
    "replace(\"I luve Julia\",\"u\"=>\"o\")"
   ]
  },
  {
   "cell_type": "code",
   "execution_count": 217,
   "metadata": {},
   "outputs": [
    {
     "data": {
      "text/plain": [
       "\"I love him\""
      ]
     },
     "execution_count": 217,
     "metadata": {},
     "output_type": "execute_result"
    }
   ],
   "source": [
    "replace(\"I love her\",\"er\"=>\"im\")"
   ]
  },
  {
   "cell_type": "code",
   "execution_count": 219,
   "metadata": {},
   "outputs": [
    {
     "data": {
      "text/plain": [
       "3-element Array{SubString{String},1}:\n",
       " \"34\"\n",
       " \"WTF\"\n",
       " \"??\""
      ]
     },
     "execution_count": 219,
     "metadata": {},
     "output_type": "execute_result"
    }
   ],
   "source": [
    "split(\"34,WTF,??\",\",\")"
   ]
  },
  {
   "cell_type": "code",
   "execution_count": 220,
   "metadata": {},
   "outputs": [
    {
     "data": {
      "text/plain": [
       "1-element Array{SubString{String},1}:\n",
       " \"34,WTF,??\""
      ]
     },
     "execution_count": 220,
     "metadata": {},
     "output_type": "execute_result"
    }
   ],
   "source": [
    "split(\"34,WTF,??\",\"a\")#如果没有那就不分割"
   ]
  },
  {
   "cell_type": "code",
   "execution_count": 222,
   "metadata": {},
   "outputs": [
    {
     "data": {
      "text/plain": [
       "3-element Array{SubString{String},1}:\n",
       " \"34\"\n",
       " \"WTF\"\n",
       " \"??\""
      ]
     },
     "execution_count": 222,
     "metadata": {},
     "output_type": "execute_result"
    }
   ],
   "source": [
    "split(\"34  WTF  ??\")#如果不指定就是按空格"
   ]
  },
  {
   "cell_type": "code",
   "execution_count": 224,
   "metadata": {},
   "outputs": [
    {
     "name": "stdout",
     "output_type": "stream",
     "text": [
      "Hello, Pascal \n"
     ]
    }
   ],
   "source": [
    "name = \"Pascal\"\n",
    "using Printf\n",
    "@printf(\"Hello, %s \\n\", name)#returns Hello, Pascal"
   ]
  },
  {
   "cell_type": "code",
   "execution_count": 225,
   "metadata": {},
   "outputs": [
    {
     "name": "stdout",
     "output_type": "stream",
     "text": [
      "100000\n"
     ]
    }
   ],
   "source": [
    "using Printf\n",
    "# d for integers:\n",
    "@printf(\"%d\\n\", 1e5)"
   ]
  },
  {
   "cell_type": "code",
   "execution_count": 226,
   "metadata": {},
   "outputs": [
    {
     "name": "stdout",
     "output_type": "stream",
     "text": [
      "X = 7.357\n"
     ]
    }
   ],
   "source": [
    "x = 7.35679\n",
    "@printf(\"X = %0.3f\\n\", x)"
   ]
  },
  {
   "cell_type": "code",
   "execution_count": 227,
   "metadata": {},
   "outputs": [
    {
     "name": "stdout",
     "output_type": "stream",
     "text": [
      "1.52 2.44\n"
     ]
    }
   ],
   "source": [
    "aa = 1.52323213213123\n",
    "bb = 2.4353453234646457\n",
    "@printf(\"%.2f %.2f\\n\", aa, bb)"
   ]
  },
  {
   "cell_type": "code",
   "execution_count": 233,
   "metadata": {},
   "outputs": [
    {
     "name": "stdout",
     "output_type": "stream",
     "text": [
      "\"7.357\"\n",
      "7.357\n"
     ]
    }
   ],
   "source": [
    "str = @sprintf(\"%0.3f\", x)\n",
    "show(str)\n",
    "println()\n",
    "println(str)"
   ]
  },
  {
   "cell_type": "code",
   "execution_count": 236,
   "metadata": {},
   "outputs": [
    {
     "name": "stdout",
     "output_type": "stream",
     "text": [
      "VersionNumber"
     ]
    }
   ],
   "source": [
    "print(VersionNumber)"
   ]
  },
  {
   "cell_type": "code",
   "execution_count": 237,
   "metadata": {},
   "outputs": [
    {
     "data": {
      "text/plain": [
       "DataType"
      ]
     },
     "execution_count": 237,
     "metadata": {},
     "output_type": "execute_result"
    }
   ],
   "source": [
    "typeof(VersionNumber)"
   ]
  },
  {
   "cell_type": "code",
   "execution_count": 1,
   "metadata": {},
   "outputs": [
    {
     "name": "stdout",
     "output_type": "stream",
     "text": [
      "true\n"
     ]
    }
   ],
   "source": [
    "\"\"\"\n",
    "正则表达式我个人感觉可能在科学计算中不会起到太大作用，一\n",
    "般在一些软件的项目中可能会用到，作为🔑学习，而不苛求细节。\n",
    "\"\"\"\n",
    "#Regular expression 正则表达式\n",
    "#+用来连接任何非空的字符串\n",
    "email_pattern = r\".+@.+\"\n",
    "input = \"john.doe@mit.edu\"\n",
    "println(occursin(email_pattern, input)) #>true"
   ]
  },
  {
   "cell_type": "code",
   "execution_count": 3,
   "metadata": {},
   "outputs": [
    {
     "name": "stdout",
     "output_type": "stream",
     "text": [
      "credit card found\n",
      "4457418557635128\n",
      "1\n",
      "Int64[]\n"
     ]
    }
   ],
   "source": [
    "visa = r\"^(?:4[0-9]{12}(?:[0-9]{3})?)$\"\n",
    "input = \"4457418557635128\"\n",
    "occursin(visa, input)\n",
    "if occursin(visa, input)\n",
    "    println(\"credit card found\")\n",
    "    m = match(visa, input)\n",
    "    println(m.match)\n",
    "    println(m.offset)#at what position the matching begins. Here, it is 1.\n",
    "    println(m.offsets)\n",
    "end"
   ]
  },
  {
   "cell_type": "code",
   "execution_count": 4,
   "metadata": {},
   "outputs": [
    {
     "name": "stdout",
     "output_type": "stream",
     "text": [
      "Union{Nothing, SubString{String}}[\"john.doe\", \"mit.edu\"]\n"
     ]
    }
   ],
   "source": [
    "email_pattern = r\"(.+)@(.+)\"\n",
    "input = \"john.doe@mit.edu\"\n",
    "m = match(email_pattern, input)\n",
    "println(m.captures)#> Union{Noting,SubString{String}}[\"John,doe\",\"mit.edu\"]"
   ]
  },
  {
   "cell_type": "code",
   "execution_count": 6,
   "metadata": {},
   "outputs": [
    {
     "name": "stdout",
     "output_type": "stream",
     "text": [
      "lia\n",
      "Union{Nothing, SubString{String}}[\"l\", \"i\", \"a\"]\n",
      "3\n",
      "[3, 4, 5]\n"
     ]
    }
   ],
   "source": [
    "m = match(r\"(ju|l)(i)?(a)\",\"Julia\")\n",
    "println(m.match)\n",
    "println(m.captures)\n",
    "println(m.offset)\n",
    "println(m.offsets)"
   ]
  },
  {
   "cell_type": "code",
   "execution_count": 16,
   "metadata": {
    "scrolled": true
   },
   "outputs": [
    {
     "name": "stdout",
     "output_type": "stream",
     "text": [
      "UnitRange{Int64}\n",
      "1\n",
      "2\n",
      "3\n",
      "4\n",
      "5\n",
      "6\n",
      "7\n",
      "8\n",
      "9\n",
      "1.0\n",
      "1.5\n",
      "2.0\n",
      "2.5\n",
      "3.0\n",
      "3.5\n",
      "4.0\n",
      "4.5\n",
      "5.0\n",
      "5.5\n",
      "6.0\n",
      "6.5\n",
      "7.0\n",
      "7.5\n",
      "8.0\n",
      "8.5\n",
      "9.0\n"
     ]
    }
   ],
   "source": [
    "\"\"\"\n",
    "Ranges and Arrays\n",
    "\"\"\"\n",
    "\n",
    "println(typeof(1:1000))\n",
    "\n",
    "#默认的step=1\n",
    "for i in 1:9\n",
    "    println(i)\n",
    "end\n",
    "\n",
    "for i in 1:0.5:9\n",
    "    println(i)\n",
    "end"
   ]
  },
  {
   "cell_type": "code",
   "execution_count": 21,
   "metadata": {},
   "outputs": [
    {
     "name": "stdout",
     "output_type": "stream",
     "text": [
      "Array{SubString{String},1}\n",
      "SubString{String}[\"A\", \" B\", \" C\", \" D\"]nothing\n"
     ]
    }
   ],
   "source": [
    "a = split(\"A, B, C, D\",\",\")\n",
    "println(typeof(a))#> Array{SubString{String},1}  1 = dimension\n",
    "println(show(a))"
   ]
  },
  {
   "cell_type": "code",
   "execution_count": 22,
   "metadata": {},
   "outputs": [
    {
     "data": {
      "text/plain": [
       "3-element Array{Any,1}:\n",
       " 100\n",
       "  25\n",
       "    \"ABC\""
      ]
     },
     "execution_count": 22,
     "metadata": {},
     "output_type": "execute_result"
    }
   ],
   "source": [
    "# All the elements gotta be of the same type.\n",
    "\n",
    "arr = [100, 25, 37]\n",
    "arra = Any[100, 25, \"ABC\"]"
   ]
  },
  {
   "cell_type": "code",
   "execution_count": 23,
   "metadata": {},
   "outputs": [
    {
     "name": "stdout",
     "output_type": "stream",
     "text": [
      "Any[100, 25, \"ABC\"]\n"
     ]
    }
   ],
   "source": [
    "arr2 = [100, 25, \"ABC\"]\n",
    "println(arr2)"
   ]
  },
  {
   "cell_type": "code",
   "execution_count": 24,
   "metadata": {},
   "outputs": [
    {
     "data": {
      "text/plain": [
       "100"
      ]
     },
     "execution_count": 24,
     "metadata": {},
     "output_type": "execute_result"
    }
   ],
   "source": [
    "arr2[1]"
   ]
  },
  {
   "cell_type": "code",
   "execution_count": 25,
   "metadata": {},
   "outputs": [
    {
     "name": "stdout",
     "output_type": "stream",
     "text": [
      "[0, 0, 0, 0, 0]"
     ]
    }
   ],
   "source": [
    "#Arrays can also be consructed by passing a type of parameter and a number of elements\n",
    "arr2 = Array{Int64}(undef, 5)# is a 5-element Array{Int64, 1}\n",
    "show(arr2)"
   ]
  },
  {
   "cell_type": "code",
   "execution_count": 26,
   "metadata": {},
   "outputs": [
    {
     "name": "stdout",
     "output_type": "stream",
     "text": [
      "Float64[]"
     ]
    }
   ],
   "source": [
    "arr3 = Float64[]\n",
    "show(arr3)"
   ]
  },
  {
   "cell_type": "code",
   "execution_count": 27,
   "metadata": {},
   "outputs": [
    {
     "data": {
      "text/plain": [
       "1-element Array{Float64,1}:\n",
       " 1.0"
      ]
     },
     "execution_count": 27,
     "metadata": {},
     "output_type": "execute_result"
    }
   ],
   "source": [
    "push!(arr3,1.0)"
   ]
  },
  {
   "cell_type": "code",
   "execution_count": 28,
   "metadata": {},
   "outputs": [
    {
     "data": {
      "text/plain": [
       "1.0"
      ]
     },
     "execution_count": 28,
     "metadata": {},
     "output_type": "execute_result"
    }
   ],
   "source": [
    "pop!(arr3)"
   ]
  },
  {
   "cell_type": "code",
   "execution_count": 29,
   "metadata": {},
   "outputs": [
    {
     "data": {
      "text/plain": [
       "Float64[]"
      ]
     },
     "execution_count": 29,
     "metadata": {},
     "output_type": "execute_result"
    }
   ],
   "source": [
    "arr3"
   ]
  },
  {
   "cell_type": "code",
   "execution_count": 35,
   "metadata": {},
   "outputs": [
    {
     "data": {
      "text/plain": [
       "12-element Array{Float64,1}:\n",
       " 1.0\n",
       " 2.0\n",
       " 1.0\n",
       " 2.0\n",
       " 5.0\n",
       " 1.0\n",
       " 2.0\n",
       " 5.0\n",
       " 1.0\n",
       " 2.0\n",
       " 1.0\n",
       " 2.0"
      ]
     },
     "execution_count": 35,
     "metadata": {},
     "output_type": "execute_result"
    }
   ],
   "source": [
    "push!(arr3,1.0,2.0,5.0)\n",
    "pop!(arr3)\n",
    "arr3"
   ]
  },
  {
   "cell_type": "code",
   "execution_count": 36,
   "metadata": {},
   "outputs": [
    {
     "name": "stdout",
     "output_type": "stream",
     "text": [
      "[1, 2, 3, 4, 5, 6, 7]"
     ]
    }
   ],
   "source": [
    "arr4 = collect(1:7)\n",
    "show(arr4)"
   ]
  },
  {
   "cell_type": "code",
   "execution_count": 37,
   "metadata": {},
   "outputs": [
    {
     "data": {
      "text/plain": [
       "5-element Array{Int64,1}:\n",
       " 0\n",
       " 0\n",
       " 0\n",
       " 0\n",
       " 0"
      ]
     },
     "execution_count": 37,
     "metadata": {},
     "output_type": "execute_result"
    }
   ],
   "source": [
    "sizehint!(arr2, 10^5)"
   ]
  },
  {
   "cell_type": "code",
   "execution_count": 38,
   "metadata": {},
   "outputs": [
    {
     "data": {
      "text/plain": [
       "3-element Array{Int64,1}:\n",
       " 100\n",
       "  25\n",
       "  37"
      ]
     },
     "execution_count": 38,
     "metadata": {},
     "output_type": "execute_result"
    }
   ],
   "source": [
    "arr = [100, 25, 37]"
   ]
  },
  {
   "cell_type": "code",
   "execution_count": 39,
   "metadata": {},
   "outputs": [
    {
     "data": {
      "text/plain": [
       "3-element Array{Int64,1}:\n",
       " 100\n",
       "   2\n",
       "  37"
      ]
     },
     "execution_count": 39,
     "metadata": {},
     "output_type": "execute_result"
    }
   ],
   "source": [
    "arr[2] = 2\n",
    "arr"
   ]
  },
  {
   "cell_type": "code",
   "execution_count": 40,
   "metadata": {},
   "outputs": [
    {
     "data": {
      "text/plain": [
       "Int64"
      ]
     },
     "execution_count": 40,
     "metadata": {},
     "output_type": "execute_result"
    }
   ],
   "source": [
    "eltype(arr)"
   ]
  },
  {
   "cell_type": "code",
   "execution_count": 41,
   "metadata": {},
   "outputs": [
    {
     "data": {
      "text/plain": [
       "3"
      ]
     },
     "execution_count": 41,
     "metadata": {},
     "output_type": "execute_result"
    }
   ],
   "source": [
    "length(arr)"
   ]
  },
  {
   "cell_type": "code",
   "execution_count": 42,
   "metadata": {},
   "outputs": [
    {
     "data": {
      "text/plain": [
       "1"
      ]
     },
     "execution_count": 42,
     "metadata": {},
     "output_type": "execute_result"
    }
   ],
   "source": [
    "ndims(arr)"
   ]
  },
  {
   "cell_type": "code",
   "execution_count": 45,
   "metadata": {},
   "outputs": [
    {
     "data": {
      "text/plain": [
       "3"
      ]
     },
     "execution_count": 45,
     "metadata": {},
     "output_type": "execute_result"
    }
   ],
   "source": [
    "size(arr,1)"
   ]
  },
  {
   "cell_type": "code",
   "execution_count": 46,
   "metadata": {},
   "outputs": [
    {
     "data": {
      "text/plain": [
       "5-element Array{Int64,1}:\n",
       " 1\n",
       " 2\n",
       " 3\n",
       " 4\n",
       " 5"
      ]
     },
     "execution_count": 46,
     "metadata": {},
     "output_type": "execute_result"
    }
   ],
   "source": [
    "# A for ... in loop over an array is read-only!!!!!\n",
    "\n",
    "da = collect(1:5)\n",
    "for n in da\n",
    "    n *= 2\n",
    "end\n",
    "da"
   ]
  },
  {
   "cell_type": "code",
   "execution_count": 48,
   "metadata": {},
   "outputs": [
    {
     "data": {
      "text/plain": [
       "5-element Array{Int64,1}:\n",
       "  2\n",
       "  4\n",
       "  6\n",
       "  8\n",
       " 10"
      ]
     },
     "execution_count": 48,
     "metadata": {},
     "output_type": "execute_result"
    }
   ],
   "source": [
    "# Instead, use an index i, like this\n",
    "#这个例子告诉我们要用合适的方式去修改array中的值\n",
    "for i in 1:length(da)\n",
    "    da[i] *= 2\n",
    "end\n",
    "da"
   ]
  },
  {
   "cell_type": "code",
   "execution_count": 49,
   "metadata": {},
   "outputs": [
    {
     "data": {
      "text/plain": [
       "10-element Array{Float64,1}:\n",
       " 0.0\n",
       " 0.0\n",
       " 0.0\n",
       " 0.0\n",
       " 0.0\n",
       " 0.0\n",
       " 0.0\n",
       " 0.0\n",
       " 0.0\n",
       " 0.0"
      ]
     },
     "execution_count": 49,
     "metadata": {},
     "output_type": "execute_result"
    }
   ],
   "source": [
    "zeros(10)#> 10-element Array{Float64,1}: 注意这里是Float64而不是Int64"
   ]
  },
  {
   "cell_type": "code",
   "execution_count": 50,
   "metadata": {},
   "outputs": [
    {
     "data": {
      "text/plain": [
       "10-element Array{Float64,1}:\n",
       " 1.0\n",
       " 1.0\n",
       " 1.0\n",
       " 1.0\n",
       " 1.0\n",
       " 1.0\n",
       " 1.0\n",
       " 1.0\n",
       " 1.0\n",
       " 1.0"
      ]
     },
     "execution_count": 50,
     "metadata": {},
     "output_type": "execute_result"
    }
   ],
   "source": [
    "ones(10)"
   ]
  },
  {
   "cell_type": "code",
   "execution_count": 51,
   "metadata": {},
   "outputs": [
    {
     "name": "stdout",
     "output_type": "stream",
     "text": [
      "0:10:40"
     ]
    }
   ],
   "source": [
    "eqa = range(0, step=10, length = 5)#> 0:10:40\n",
    "show(eqa)"
   ]
  },
  {
   "cell_type": "code",
   "execution_count": 52,
   "metadata": {},
   "outputs": [
    {
     "name": "stdout",
     "output_type": "stream",
     "text": [
      "Any[#undef, #undef, #undef, #undef]\n"
     ]
    }
   ],
   "source": [
    "println(Array{Any}(undef, 4))"
   ]
  },
  {
   "cell_type": "code",
   "execution_count": 54,
   "metadata": {},
   "outputs": [
    {
     "data": {
      "text/plain": [
       "4-element Array{Any,1}:\n",
       " 42\n",
       " 42\n",
       " 42\n",
       " 42"
      ]
     },
     "execution_count": 54,
     "metadata": {},
     "output_type": "execute_result"
    }
   ],
   "source": [
    "arr = Array{Any}(undef, 4)\n",
    "fill!(arr,42)"
   ]
  },
  {
   "cell_type": "code",
   "execution_count": 56,
   "metadata": {},
   "outputs": [
    {
     "data": {
      "text/plain": [
       "5-element Array{Int32,1}:\n",
       " -1121381534\n",
       "  -964389002\n",
       " -1168263158\n",
       "   289420344\n",
       "  1485447358"
      ]
     },
     "execution_count": 56,
     "metadata": {},
     "output_type": "execute_result"
    }
   ],
   "source": [
    "v1 = rand(Int32, 5)"
   ]
  },
  {
   "cell_type": "code",
   "execution_count": 64,
   "metadata": {},
   "outputs": [
    {
     "name": "stdout",
     "output_type": "stream",
     "text": [
      "[12, 3][100, 200, 300][12, 3, 100, 200, 300]"
     ]
    }
   ],
   "source": [
    "\"\"\"\n",
    "Some Common functions for Arrays\n",
    "A function whose name ends in a ! changes its first argument\n",
    "\"\"\"\n",
    "\n",
    "\n",
    "b = [12,3]\n",
    "c = [100,200,300]\n",
    "show(b)\n",
    "show(c)\n",
    "append!(b, c)\n",
    "show(b)"
   ]
  },
  {
   "cell_type": "code",
   "execution_count": 65,
   "metadata": {},
   "outputs": [
    {
     "data": {
      "text/plain": [
       "300"
      ]
     },
     "execution_count": 65,
     "metadata": {},
     "output_type": "execute_result"
    }
   ],
   "source": [
    "pop!(b)"
   ]
  },
  {
   "cell_type": "code",
   "execution_count": 66,
   "metadata": {},
   "outputs": [
    {
     "name": "stdout",
     "output_type": "stream",
     "text": [
      "[12, 3, 100, 200]"
     ]
    }
   ],
   "source": [
    "show(b)"
   ]
  },
  {
   "cell_type": "code",
   "execution_count": 67,
   "metadata": {},
   "outputs": [
    {
     "data": {
      "text/plain": [
       "5-element Array{Int64,1}:\n",
       "  12\n",
       "   3\n",
       " 100\n",
       " 200\n",
       "  42"
      ]
     },
     "execution_count": 67,
     "metadata": {},
     "output_type": "execute_result"
    }
   ],
   "source": [
    "push!(b,42)"
   ]
  },
  {
   "cell_type": "code",
   "execution_count": 68,
   "metadata": {},
   "outputs": [
    {
     "name": "stdout",
     "output_type": "stream",
     "text": [
      "[12, 3, 100, 200, 42]"
     ]
    }
   ],
   "source": [
    "show(b)"
   ]
  },
  {
   "cell_type": "code",
   "execution_count": 69,
   "metadata": {},
   "outputs": [
    {
     "name": "stdout",
     "output_type": "stream",
     "text": [
      "[3, 100, 200, 42]"
     ]
    }
   ],
   "source": [
    "popfirst!(b)\n",
    "show(b)"
   ]
  },
  {
   "cell_type": "code",
   "execution_count": 70,
   "metadata": {},
   "outputs": [
    {
     "name": "stdout",
     "output_type": "stream",
     "text": [
      "[34, 3, 100, 200, 42]"
     ]
    }
   ],
   "source": [
    "pushfirst!(b,34)\n",
    "show(b)"
   ]
  },
  {
   "cell_type": "code",
   "execution_count": 71,
   "metadata": {},
   "outputs": [
    {
     "name": "stdout",
     "output_type": "stream",
     "text": [
      "[34, 100, 200, 42]"
     ]
    }
   ],
   "source": [
    "splice!(b,2)#To remove the second element of the array b\n",
    "show(b)"
   ]
  },
  {
   "cell_type": "code",
   "execution_count": 72,
   "metadata": {},
   "outputs": [
    {
     "name": "stdout",
     "output_type": "stream",
     "text": [
      "true\n",
      "false\n"
     ]
    }
   ],
   "source": [
    "#To testify if the element in b or not?\n",
    "println(in(42,b))\n",
    "println(in(43,b))"
   ]
  },
  {
   "cell_type": "code",
   "execution_count": 73,
   "metadata": {},
   "outputs": [
    {
     "data": {
      "text/plain": [
       "4-element Array{Int64,1}:\n",
       "  34\n",
       "  42\n",
       " 100\n",
       " 200"
      ]
     },
     "execution_count": 73,
     "metadata": {},
     "output_type": "execute_result"
    }
   ],
   "source": [
    "sort(b)#sort function won't change the initial array at all"
   ]
  },
  {
   "cell_type": "code",
   "execution_count": 74,
   "metadata": {},
   "outputs": [
    {
     "name": "stdout",
     "output_type": "stream",
     "text": [
      "[34, 100, 200, 42]\n"
     ]
    }
   ],
   "source": [
    "println(b)"
   ]
  },
  {
   "cell_type": "code",
   "execution_count": 75,
   "metadata": {},
   "outputs": [
    {
     "name": "stdout",
     "output_type": "stream",
     "text": [
      "[34, 42, 100, 200]\n"
     ]
    }
   ],
   "source": [
    "sort!(b)#sort! will change it actually!\n",
    "println(b)"
   ]
  },
  {
   "cell_type": "code",
   "execution_count": 76,
   "metadata": {},
   "outputs": [
    {
     "name": "stdout",
     "output_type": "stream",
     "text": [
      "1 8 52 34 30 "
     ]
    }
   ],
   "source": [
    "arr = [1, 8 ,52, 34, 30]\n",
    "for e in arr\n",
    "    print(\"$e \")\n",
    "end"
   ]
  },
  {
   "cell_type": "code",
   "execution_count": 77,
   "metadata": {},
   "outputs": [
    {
     "data": {
      "text/plain": [
       "3-element Array{Int64,1}:\n",
       " 3\n",
       " 4\n",
       " 5"
      ]
     },
     "execution_count": 77,
     "metadata": {},
     "output_type": "execute_result"
    }
   ],
   "source": [
    "arr = [1, 2, 3]\n",
    "arr .+ 2"
   ]
  },
  {
   "cell_type": "code",
   "execution_count": 78,
   "metadata": {},
   "outputs": [
    {
     "data": {
      "text/plain": [
       "3-element Array{Int64,1}:\n",
       " 2\n",
       " 4\n",
       " 6"
      ]
     },
     "execution_count": 78,
     "metadata": {},
     "output_type": "execute_result"
    }
   ],
   "source": [
    "arr .*2 "
   ]
  },
  {
   "cell_type": "code",
   "execution_count": 79,
   "metadata": {},
   "outputs": [
    {
     "data": {
      "text/plain": [
       "3-element Array{Int64,1}:\n",
       " 2\n",
       " 4\n",
       " 6"
      ]
     },
     "execution_count": 79,
     "metadata": {},
     "output_type": "execute_result"
    }
   ],
   "source": [
    "arr * 2"
   ]
  },
  {
   "cell_type": "code",
   "execution_count": 80,
   "metadata": {},
   "outputs": [
    {
     "data": {
      "text/plain": [
       "3-element Array{Int64,1}:\n",
       "  4\n",
       " 10\n",
       " 18"
      ]
     },
     "execution_count": 80,
     "metadata": {},
     "output_type": "execute_result"
    }
   ],
   "source": [
    "#To multiple the corresponding element of each array .i.e [a1[1]*a2[1], a1[2]*a2[2], a1[3]*a2[3]]\n",
    "a1 = [1, 2, 3]\n",
    "a2 = [4 ,5, 6]\n",
    "a1 .* a2"
   ]
  },
  {
   "cell_type": "code",
   "execution_count": 83,
   "metadata": {},
   "outputs": [
    {
     "name": "stdout",
     "output_type": "stream",
     "text": [
      "32\n",
      "  0.000131 seconds (33 allocations: 752 bytes)\n",
      "32\n",
      "  0.000121 seconds (36 allocations: 1024 bytes)\n"
     ]
    }
   ],
   "source": [
    "using LinearAlgebra\n",
    "@time println(LinearAlgebra.dot(a1,a2))#> 32\n",
    "@time println(sum(a1 .* a2))"
   ]
  },
  {
   "cell_type": "code",
   "execution_count": 88,
   "metadata": {},
   "outputs": [
    {
     "data": {
      "text/plain": [
       "9-element Array{Int64,1}:\n",
       " 1\n",
       " 1\n",
       " 1\n",
       " 2\n",
       " 2\n",
       " 2\n",
       " 3\n",
       " 3\n",
       " 3"
      ]
     },
     "execution_count": 88,
     "metadata": {},
     "output_type": "execute_result"
    }
   ],
   "source": [
    "repeat([1,2,3],inner=[3])"
   ]
  },
  {
   "cell_type": "code",
   "execution_count": 89,
   "metadata": {},
   "outputs": [
    {
     "name": "stdout",
     "output_type": "stream",
     "text": [
      "[1, 2, 4, 6]"
     ]
    }
   ],
   "source": [
    "\"\"\"\n",
    "When you assign an array to another array, and then change the first array, both the arrays change!\n",
    "Because they point to the same object in memory!\n",
    "\"\"\"\n",
    "\n",
    "a = [1, 2, 4, 6]\n",
    "a1 = a\n",
    "show(a1)"
   ]
  },
  {
   "cell_type": "code",
   "execution_count": 91,
   "metadata": {},
   "outputs": [
    {
     "name": "stdout",
     "output_type": "stream",
     "text": [
      "[1, 2, 4, 0][1, 2, 4, 0]"
     ]
    }
   ],
   "source": [
    "a[4] = 0 \n",
    "show(a)\n",
    "show(a1)"
   ]
  },
  {
   "cell_type": "code",
   "execution_count": 94,
   "metadata": {},
   "outputs": [
    {
     "name": "stdout",
     "output_type": "stream",
     "text": [
      "a=[0, 2, 3, 4]\n",
      "b=[1, 2, 3, 4]\n"
     ]
    }
   ],
   "source": [
    "\"\"\"\n",
    "Actually, We have some method to avoid it.\n",
    "\"\"\"\n",
    "a = [1,2,3,4]\n",
    "b = copy(a)\n",
    "a[1] = 0\n",
    "println(\"a=\",a)\n",
    "println(\"b=\",b)"
   ]
  },
  {
   "cell_type": "code",
   "execution_count": 95,
   "metadata": {},
   "outputs": [
    {
     "name": "stdout",
     "output_type": "stream",
     "text": [
      "a=[0, 2, 3, 4]\n",
      "b=[1, 2, 3, 4]\n"
     ]
    }
   ],
   "source": [
    "a = [1,2,3,4]\n",
    "b = deepcopy(a)\n",
    "a[1] = 0\n",
    "println(\"a=\",a)\n",
    "println(\"b=\",b)"
   ]
  },
  {
   "cell_type": "code",
   "execution_count": 97,
   "metadata": {},
   "outputs": [
    {
     "name": "stdout",
     "output_type": "stream",
     "text": [
      "a=Any[1, 0, 4, 5]\n",
      "b=Any[1, [23, 3], 4, 5]\n"
     ]
    }
   ],
   "source": [
    "a = [1,[23,3],4,5]\n",
    "b = copy(a)\n",
    "a[2] = 0\n",
    "println(\"a=\",a)\n",
    "println(\"b=\",b)"
   ]
  },
  {
   "cell_type": "code",
   "execution_count": 98,
   "metadata": {},
   "outputs": [
    {
     "name": "stdout",
     "output_type": "stream",
     "text": [
      "a=Any[1, 0, 4, 5]\n",
      "b=Any[1, [23, 3], 4, 5]\n"
     ]
    }
   ],
   "source": [
    "a = [1,[23,3],4,5]\n",
    "b = deepcopy(a)\n",
    "a[2] = 0\n",
    "println(\"a=\",a)\n",
    "println(\"b=\",b)"
   ]
  },
  {
   "cell_type": "code",
   "execution_count": 99,
   "metadata": {},
   "outputs": [
    {
     "data": {
      "text/plain": [
       "'T': ASCII/Unicode U+0054 (category Lu: Letter, uppercase)"
      ]
     },
     "execution_count": 99,
     "metadata": {},
     "output_type": "execute_result"
    }
   ],
   "source": [
    "a = \"WTF\"\n",
    "a[2]"
   ]
  },
  {
   "cell_type": "code",
   "execution_count": 102,
   "metadata": {},
   "outputs": [
    {
     "ename": "LoadError",
     "evalue": "MethodError: no method matching setindex!(::String, ::Char, ::Int64)",
     "output_type": "error",
     "traceback": [
      "MethodError: no method matching setindex!(::String, ::Char, ::Int64)",
      "",
      "Stacktrace:",
      " [1] top-level scope at In[102]:1",
      " [2] include_string(::Function, ::Module, ::String, ::String) at ./loading.jl:1091"
     ]
    }
   ],
   "source": [
    "a[2] = 'F'\n",
    "show(a)"
   ]
  },
  {
   "cell_type": "code",
   "execution_count": 103,
   "metadata": {},
   "outputs": [
    {
     "name": "stdout",
     "output_type": "stream",
     "text": [
      "[1, 25, 3]\n"
     ]
    }
   ],
   "source": [
    "\"\"\"\n",
    "Arrays are mutable, and as arugments to a function, they are PASSED BY REFERENCE⟹the function CAN CHANGE them!\n",
    "\"\"\"\n",
    "\n",
    "a = [1, 2, 3]\n",
    "\n",
    "function change_array(arr)\n",
    "    arr[2] = 25\n",
    "end\n",
    "\n",
    "change_array(a)\n",
    "println(a)"
   ]
  },
  {
   "cell_type": "code",
   "execution_count": 105,
   "metadata": {},
   "outputs": [
    {
     "data": {
      "text/plain": [
       "3-element Array{Any,1}:\n",
       " 'a': ASCII/Unicode U+0061 (category Ll: Letter, lowercase)\n",
       " 'a': ASCII/Unicode U+0061 (category Ll: Letter, lowercase)\n",
       " 'c': ASCII/Unicode U+0063 (category Ll: Letter, lowercase)"
      ]
     },
     "execution_count": 105,
     "metadata": {},
     "output_type": "execute_result"
    }
   ],
   "source": [
    "#At here, we did not change the String, actually we change the second element of arr.\n",
    "arr = ['a', \"b\", 'c']\n",
    "arr[2] = 'a'\n",
    "arr"
   ]
  },
  {
   "cell_type": "code",
   "execution_count": 106,
   "metadata": {},
   "outputs": [
    {
     "data": {
      "text/plain": [
       "\"abc\""
      ]
     },
     "execution_count": 106,
     "metadata": {},
     "output_type": "execute_result"
    }
   ],
   "source": [
    "arr = ['a', 'b', 'c']\n",
    "join(arr)"
   ]
  },
  {
   "cell_type": "code",
   "execution_count": 109,
   "metadata": {},
   "outputs": [
    {
     "name": "stdout",
     "output_type": "stream",
     "text": [
      "['a', 'b', 'c']\n",
      "abc\n"
     ]
    }
   ],
   "source": [
    "println(string(arr))\n",
    "println(string(arr...)) # ...、⇔ splice"
   ]
  },
  {
   "cell_type": "markdown",
   "metadata": {},
   "source": [
    "# Dates and Times"
   ]
  },
  {
   "cell_type": "code",
   "execution_count": 110,
   "metadata": {},
   "outputs": [
    {
     "data": {
      "text/plain": [
       "1.614008725008341e9"
      ]
     },
     "execution_count": 110,
     "metadata": {},
     "output_type": "execute_result"
    }
   ],
   "source": [
    "time()"
   ]
  },
  {
   "cell_type": "code",
   "execution_count": 111,
   "metadata": {},
   "outputs": [
    {
     "name": "stdout",
     "output_type": "stream",
     "text": [
      "TIme elapsed: 0.0015981197357177734\n"
     ]
    }
   ],
   "source": [
    "start_time = time()\n",
    "#long computation\n",
    "time_elapsed = time() - start_time\n",
    "println(\"TIme elapsed: $time_elapsed\")"
   ]
  },
  {
   "cell_type": "code",
   "execution_count": 114,
   "metadata": {},
   "outputs": [
    {
     "data": {
      "text/plain": [
       "2021-02-22"
      ]
     },
     "execution_count": 114,
     "metadata": {},
     "output_type": "execute_result"
    }
   ],
   "source": [
    "using Dates\n",
    "d = Date(2021, 2, 22)"
   ]
  },
  {
   "cell_type": "code",
   "execution_count": 115,
   "metadata": {},
   "outputs": [
    {
     "data": {
      "text/plain": [
       "2014-09-01T12:30:59.001"
      ]
     },
     "execution_count": 115,
     "metadata": {},
     "output_type": "execute_result"
    }
   ],
   "source": [
    "dt = DateTime(2014, 9, 1, 12 ,30 ,59, 1)"
   ]
  },
  {
   "cell_type": "code",
   "execution_count": 116,
   "metadata": {},
   "outputs": [
    {
     "data": {
      "text/plain": [
       "false"
      ]
     },
     "execution_count": 116,
     "metadata": {},
     "output_type": "execute_result"
    }
   ],
   "source": [
    "isleapyear(2021)"
   ]
  },
  {
   "cell_type": "code",
   "execution_count": 120,
   "metadata": {},
   "outputs": [
    {
     "name": "stdout",
     "output_type": "stream",
     "text": [
      "search: \u001b[0m\u001b[1md\u001b[22m\u001b[0m\u001b[1ma\u001b[22m\u001b[0m\u001b[1my\u001b[22m\u001b[0m\u001b[1mn\u001b[22m\u001b[0m\u001b[1ma\u001b[22m\u001b[0m\u001b[1mm\u001b[22m\u001b[0m\u001b[1me\u001b[22m \u001b[0m\u001b[1md\u001b[22m\u001b[0m\u001b[1ma\u001b[22m\u001b[0m\u001b[1my\u001b[22msi\u001b[0m\u001b[1mn\u001b[22mye\u001b[0m\u001b[1ma\u001b[22mr\n",
      "\n"
     ]
    },
    {
     "data": {
      "text/latex": [
       "\\begin{verbatim}\n",
       "dayname(dt::TimeType; locale=\"english\") -> String\n",
       "dayname(day::Integer; locale=\"english\") -> String\n",
       "\\end{verbatim}\n",
       "Return the full day name corresponding to the day of the week of the \\texttt{Date} or \\texttt{DateTime} in the given \\texttt{locale}. Also accepts \\texttt{Integer}.\n",
       "\n",
       "\\section{Examples}\n",
       "\\begin{verbatim}\n",
       "julia> Dates.dayname(Date(\"2000-01-01\"))\n",
       "\"Saturday\"\n",
       "\n",
       "julia> Dates.dayname(4)\n",
       "\"Thursday\"\n",
       "\\end{verbatim}\n"
      ],
      "text/markdown": [
       "```\n",
       "dayname(dt::TimeType; locale=\"english\") -> String\n",
       "dayname(day::Integer; locale=\"english\") -> String\n",
       "```\n",
       "\n",
       "Return the full day name corresponding to the day of the week of the `Date` or `DateTime` in the given `locale`. Also accepts `Integer`.\n",
       "\n",
       "# Examples\n",
       "\n",
       "```jldoctest\n",
       "julia> Dates.dayname(Date(\"2000-01-01\"))\n",
       "\"Saturday\"\n",
       "\n",
       "julia> Dates.dayname(4)\n",
       "\"Thursday\"\n",
       "```\n"
      ],
      "text/plain": [
       "\u001b[36m  dayname(dt::TimeType; locale=\"english\") -> String\u001b[39m\n",
       "\u001b[36m  dayname(day::Integer; locale=\"english\") -> String\u001b[39m\n",
       "\n",
       "  Return the full day name corresponding to the day of the week of the \u001b[36mDate\u001b[39m or\n",
       "  \u001b[36mDateTime\u001b[39m in the given \u001b[36mlocale\u001b[39m. Also accepts \u001b[36mInteger\u001b[39m.\n",
       "\n",
       "\u001b[1m  Examples\u001b[22m\n",
       "\u001b[1m  ≡≡≡≡≡≡≡≡≡≡\u001b[22m\n",
       "\n",
       "\u001b[36m  julia> Dates.dayname(Date(\"2000-01-01\"))\u001b[39m\n",
       "\u001b[36m  \"Saturday\"\u001b[39m\n",
       "\u001b[36m  \u001b[39m\n",
       "\u001b[36m  julia> Dates.dayname(4)\u001b[39m\n",
       "\u001b[36m  \"Thursday\"\u001b[39m"
      ]
     },
     "execution_count": 120,
     "metadata": {},
     "output_type": "execute_result"
    }
   ],
   "source": [
    "?dayname"
   ]
  },
  {
   "cell_type": "markdown",
   "metadata": {},
   "source": [
    "# Scope and constants\n",
    "\n",
    "* Using global scope variables is not advisable for several reasons, notably the PERFORMANCE!"
   ]
  },
  {
   "cell_type": "code",
   "execution_count": 121,
   "metadata": {},
   "outputs": [
    {
     "ename": "LoadError",
     "evalue": "syntax: type declarations on global variables are not yet supported",
     "output_type": "error",
     "traceback": [
      "syntax: type declarations on global variables are not yet supported",
      "",
      "Stacktrace:",
      " [1] top-level scope at In[121]:3",
      " [2] include_string(::Function, ::Module, ::String, ::String) at ./loading.jl:1091"
     ]
    }
   ],
   "source": [
    "x = 1.0\n",
    "x = 1\n",
    "y ::Float64 = 1.0"
   ]
  },
  {
   "cell_type": "code",
   "execution_count": 122,
   "metadata": {},
   "outputs": [
    {
     "data": {
      "text/plain": [
       "scopetest (generic function with 1 method)"
      ]
     },
     "execution_count": 122,
     "metadata": {},
     "output_type": "execute_result"
    }
   ],
   "source": [
    "function scopetest()\n",
    "    println(x)\n",
    "    y :: Float64 = 1.0\n",
    "end"
   ]
  },
  {
   "cell_type": "code",
   "execution_count": 123,
   "metadata": {},
   "outputs": [
    {
     "name": "stdout",
     "output_type": "stream",
     "text": [
      "1\n"
     ]
    },
    {
     "data": {
      "text/plain": [
       "1.0"
      ]
     },
     "execution_count": 123,
     "metadata": {},
     "output_type": "execute_result"
    }
   ],
   "source": [
    "scopetest()"
   ]
  },
  {
   "cell_type": "code",
   "execution_count": 124,
   "metadata": {},
   "outputs": [
    {
     "ename": "LoadError",
     "evalue": "UndefVarError: y not defined",
     "output_type": "error",
     "traceback": [
      "UndefVarError: y not defined",
      "",
      "Stacktrace:",
      " [1] top-level scope at In[124]:1",
      " [2] include_string(::Function, ::Module, ::String, ::String) at ./loading.jl:1091"
     ]
    }
   ],
   "source": [
    "println(y)"
   ]
  },
  {
   "cell_type": "markdown",
   "metadata": {},
   "source": [
    "## Type annotations can only be used in local scope\n",
    "\n",
    "### Some code constructs introduce scope blocks. They support local variables.!\n",
    "\n",
    "* for\n",
    "* while\n",
    "* try\n",
    "* let\n",
    "* type"
   ]
  },
  {
   "cell_type": "code",
   "execution_count": 125,
   "metadata": {},
   "outputs": [
    {
     "name": "stdout",
     "output_type": "stream",
     "text": [
      "10\n",
      "5\n"
     ]
    }
   ],
   "source": [
    "\"\"\"\n",
    "Compound expression\n",
    "\"\"\"\n",
    "x = begin\n",
    "    a = 5\n",
    "    2 * a\n",
    "end\n",
    "println(x)\n",
    "println(a)"
   ]
  },
  {
   "cell_type": "code",
   "execution_count": 128,
   "metadata": {},
   "outputs": [
    {
     "data": {
      "text/plain": [
       "10"
      ]
     },
     "execution_count": 128,
     "metadata": {},
     "output_type": "execute_result"
    }
   ],
   "source": [
    "x = (a=5;2*a)"
   ]
  },
  {
   "cell_type": "markdown",
   "metadata": {},
   "source": [
    "Variables introduced in it are still known after the expression ends."
   ]
  },
  {
   "cell_type": "code",
   "execution_count": 129,
   "metadata": {},
   "outputs": [
    {
     "data": {
      "text/plain": [
       "6.67e-11"
      ]
     },
     "execution_count": 129,
     "metadata": {},
     "output_type": "execute_result"
    }
   ],
   "source": [
    "const GC = 6.67e-11"
   ]
  },
  {
   "cell_type": "code",
   "execution_count": 130,
   "metadata": {},
   "outputs": [
    {
     "data": {
      "text/plain": [
       "v\"1.5.3\""
      ]
     },
     "execution_count": 130,
     "metadata": {},
     "output_type": "execute_result"
    }
   ],
   "source": [
    "VERSION"
   ]
  },
  {
   "cell_type": "code",
   "execution_count": 131,
   "metadata": {},
   "outputs": [
    {
     "data": {
      "text/plain": [
       "1-element Array{String,1}:\n",
       " \"/Users/zhonghaowen/Library/Jupyter/runtime/kernel-546cd0c4-bf26-41f1-a304-a5931b7d4952.json\""
      ]
     },
     "execution_count": 131,
     "metadata": {},
     "output_type": "execute_result"
    }
   ],
   "source": [
    "ARGS"
   ]
  },
  {
   "cell_type": "code",
   "execution_count": 136,
   "metadata": {},
   "outputs": [
    {
     "data": {
      "text/plain": [
       "π = 3.1415926535897..."
      ]
     },
     "execution_count": 136,
     "metadata": {},
     "output_type": "execute_result"
    }
   ],
   "source": [
    "pi"
   ]
  },
  {
   "cell_type": "code",
   "execution_count": 139,
   "metadata": {},
   "outputs": [
    {
     "name": "stderr",
     "output_type": "stream",
     "text": [
      "WARNING: redefinition of constant GC. This may fail, cause incorrect answers, or produce other errors.\n"
     ]
    },
    {
     "data": {
      "text/plain": [
       "3.14"
      ]
     },
     "execution_count": 139,
     "metadata": {},
     "output_type": "execute_result"
    }
   ],
   "source": [
    "GC = 3.14"
   ]
  },
  {
   "cell_type": "code",
   "execution_count": 140,
   "metadata": {},
   "outputs": [
    {
     "ename": "LoadError",
     "evalue": "invalid redefinition of constant GC",
     "output_type": "error",
     "traceback": [
      "invalid redefinition of constant GC",
      "",
      "Stacktrace:",
      " [1] top-level scope at In[140]:1",
      " [2] include_string(::Function, ::Module, ::String, ::String) at ./loading.jl:1091"
     ]
    }
   ],
   "source": [
    "GC = 10"
   ]
  },
  {
   "cell_type": "code",
   "execution_count": 142,
   "metadata": {},
   "outputs": [
    {
     "name": "stderr",
     "output_type": "stream",
     "text": [
      "WARNING: redefinition of constant GC. This may fail, cause incorrect answers, or produce other errors.\n"
     ]
    },
    {
     "data": {
      "text/plain": [
       "2.3"
      ]
     },
     "execution_count": 142,
     "metadata": {},
     "output_type": "execute_result"
    }
   ],
   "source": [
    "GC = 2.3"
   ]
  },
  {
   "cell_type": "code",
   "execution_count": 143,
   "metadata": {},
   "outputs": [
    {
     "data": {
      "text/plain": [
       "2.3"
      ]
     },
     "execution_count": 143,
     "metadata": {},
     "output_type": "execute_result"
    }
   ],
   "source": [
    "GC"
   ]
  },
  {
   "cell_type": "markdown",
   "metadata": {},
   "source": [
    "# Julia gets its speed from knowing the correct types"
   ]
  },
  {
   "cell_type": "code",
   "execution_count": 144,
   "metadata": {},
   "outputs": [
    {
     "name": "stdout",
     "output_type": "stream",
     "text": [
      "[0, 7, 1]"
     ]
    }
   ],
   "source": [
    "const ARR = [4,7,1]\n",
    "ARR[1] = 0\n",
    "show(ARR)"
   ]
  },
  {
   "cell_type": "code",
   "execution_count": 145,
   "metadata": {},
   "outputs": [
    {
     "name": "stdout",
     "output_type": "stream",
     "text": [
      "[1, 2, 3]"
     ]
    },
    {
     "name": "stderr",
     "output_type": "stream",
     "text": [
      "WARNING: redefinition of constant ARR. This may fail, cause incorrect answers, or produce other errors.\n"
     ]
    }
   ],
   "source": [
    "ARR = [1,2,3]\n",
    "show(ARR)"
   ]
  },
  {
   "cell_type": "code",
   "execution_count": 146,
   "metadata": {},
   "outputs": [
    {
     "name": "stdout",
     "output_type": "stream",
     "text": [
      "The Gold and Blue Losed a Bit of Its Luster\n",
      "The headline counts 43 characters\n",
      "The Gold and Blue Losed a Bit of Its Luster\n",
      "The Gold and Red Losed a Bit of Its Luster\n",
      "Here are the characters at position 25 to 30:\n",
      "-a bit -Here are all the characters:\n",
      "T\n",
      "h\n",
      "e\n",
      " \n",
      "G\n",
      "o\n",
      "l\n",
      "d\n",
      " \n",
      "a\n",
      "n\n",
      "d\n",
      " \n",
      "B\n",
      "l\n",
      "u\n",
      "e\n",
      " \n",
      "L\n",
      "o\n",
      "s\n",
      "e\n",
      "d\n",
      " \n",
      "a\n",
      " \n",
      "B\n",
      "i\n",
      "t\n",
      " \n",
      "o\n",
      "f\n",
      " \n",
      "I\n",
      "t\n",
      "s\n",
      " \n",
      "L\n",
      "u\n",
      "s\n",
      "t\n",
      "e\n",
      "r\n",
      "SubString{String}[\"The\", \"Gold\", \"and\", \"Blue\", \"Losed\", \"a\", \"Bit\", \"of\", \"Its\", \"Luster\"]The headline counts 10 words\n",
      "Here are all the words\n",
      "The\n",
      "Gold\n",
      "and\n",
      "Blue\n",
      "Losed\n",
      "a\n",
      "Bit\n",
      "of\n",
      "Its\n",
      "Luster\n",
      "SubString{String}[\"The\", \"Gold\", \"and\", \"Red\", \"Losed\", \"a\", \"Bit\", \"of\", \"Its\", \"Luster\"]Convert back to a sentence:\n",
      "The Gold and Red Losed a Bit of Its Luster\n",
      "Arrays: caculate sum, mean and standard deviation \n",
      "5050\n",
      "50.5\n"
     ]
    }
   ],
   "source": [
    "using Statistics\n",
    "str = \"The Gold and Blue Losed a Bit of Its Luster\"\n",
    "println(str)\n",
    "nchars = length(str)\n",
    "println(\"The headline counts $nchars characters\")\n",
    "str2 = replace(str, \"Blue\" => \"Red\")\n",
    "\n",
    "println(str)\n",
    "println(str2)\n",
    "println(\"Here are the characters at position 25 to 30:\")\n",
    "subs = str[25:30]\n",
    "print(\"-$(lowercase(subs))-\")\n",
    "println(\"Here are all the characters:\")\n",
    "for c in str\n",
    "    println(c)\n",
    "end\n",
    "\n",
    "arr = split(str, ' ')\n",
    "show(arr)\n",
    "\n",
    "nwords = length(arr)\n",
    "println(\"The headline counts $nwords words\")\n",
    "println(\"Here are all the words\")\n",
    "for word in arr\n",
    "    println(word)\n",
    "end\n",
    "\n",
    "arr[4] = \"Red\"\n",
    "show(arr)\n",
    "println(\"Convert back to a sentence:\")\n",
    "nstr = join(arr, ' ')\n",
    "println(nstr)\n",
    "\n",
    "println(\"Arrays: caculate sum, mean and standard deviation \")\n",
    "arr = collect(1:100)\n",
    "typeof(arr)\n",
    "println(sum(arr))\n",
    "println(mean(arr))"
   ]
  },
  {
   "cell_type": "code",
   "execution_count": null,
   "metadata": {},
   "outputs": [],
   "source": []
  }
 ],
 "metadata": {
  "kernelspec": {
   "display_name": "Julia 1.5.3",
   "language": "julia",
   "name": "julia-1.5"
  },
  "language_info": {
   "file_extension": ".jl",
   "mimetype": "application/julia",
   "name": "julia",
   "version": "1.5.3"
  }
 },
 "nbformat": 4,
 "nbformat_minor": 4
}
