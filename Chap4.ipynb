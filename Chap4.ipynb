{
 "cells": [
  {
   "cell_type": "code",
   "execution_count": 1,
   "metadata": {},
   "outputs": [
    {
     "data": {
      "text/plain": [
       "`\u001b[4mif...elseif...else...end\u001b[24m`"
      ]
     },
     "execution_count": 1,
     "metadata": {},
     "output_type": "execute_result"
    }
   ],
   "source": [
    "`if...elseif...else...end`"
   ]
  },
  {
   "cell_type": "code",
   "execution_count": 6,
   "metadata": {},
   "outputs": [
    {
     "name": "stdout",
     "output_type": "stream",
     "text": [
      "  0.000003 seconds\n",
      "  0.000002 seconds\n"
     ]
    },
    {
     "data": {
      "text/plain": [
       "15"
      ]
     },
     "execution_count": 6,
     "metadata": {},
     "output_type": "execute_result"
    }
   ],
   "source": [
    "a = 10\n",
    "b = 15\n",
    "#速度基本没有差别\n",
    "@time z = if a> b a\n",
    "    else b\n",
    "end\n",
    "@time z = a>b ? a : b"
   ]
  },
  {
   "cell_type": "code",
   "execution_count": 11,
   "metadata": {},
   "outputs": [
    {
     "name": "stdout",
     "output_type": "stream",
     "text": [
      "var has value 7 and is smaller than 10\n"
     ]
    }
   ],
   "source": [
    "#ternary operator can be chained like below\n",
    "var = 7\n",
    "varout = \"var has value $var\"\n",
    "cond = var > 10 ? \"and is bigger than 10.\" : var < 10 ? \" and is smaller than 10\" : \"and is 10.\"\n",
    "println(\"$varout$cond\")"
   ]
  },
  {
   "cell_type": "code",
   "execution_count": 13,
   "metadata": {},
   "outputs": [
    {
     "name": "stdout",
     "output_type": "stream",
     "text": [
      "2.0\n",
      "0\n"
     ]
    },
    {
     "ename": "LoadError",
     "evalue": "n must be non-negative",
     "output_type": "error",
     "traceback": [
      "n must be non-negative",
      "",
      "Stacktrace:",
      " [1] error(::String) at ./error.jl:33",
      " [2] sqroot(::Int64) at ./In[13]:2",
      " [3] top-level scope at In[13]:8",
      " [4] include_string(::Function, ::Module, ::String, ::String) at ./loading.jl:1091"
     ]
    }
   ],
   "source": [
    "function sqroot(n::Int)\n",
    "    n >= 0 || error(\"n must be non-negative\")\n",
    "    n == 0 && return 0\n",
    "    sqrt(n)\n",
    "end\n",
    "println(sqroot(4))\n",
    "println(sqroot(0))\n",
    "println(sqroot(-2))"
   ]
  },
  {
   "cell_type": "markdown",
   "metadata": {},
   "source": [
    "# Repeated evaluation"
   ]
  },
  {
   "cell_type": "code",
   "execution_count": 16,
   "metadata": {},
   "outputs": [
    {
     "name": "stdout",
     "output_type": "stream",
     "text": [
      "1\n",
      "8\n",
      "27\n",
      "64\n",
      "125\n",
      "216\n",
      "343\n",
      "512\n",
      "729\n",
      "1000\n",
      "  0.007473 seconds (329 allocations: 7.672 KiB)\n"
     ]
    }
   ],
   "source": [
    "#Tip: Use `for i in 1:n` rather than `for i in [1:n]` since the latter allocates an array while the former uses a simpler \n",
    "#simpler range object\n",
    "@time for n in 1:10\n",
    "    println(n^3)\n",
    "end"
   ]
  },
  {
   "cell_type": "code",
   "execution_count": 22,
   "metadata": {},
   "outputs": [
    {
     "name": "stdout",
     "output_type": "stream",
     "text": [
      "the 1-th element is 1\n",
      "the 2-th element is 4\n",
      "the 3-th element is 9\n",
      "the 4-th element is 16\n",
      "the 5-th element is 25\n",
      "the 6-th element is 36\n",
      "the 7-th element is 49\n",
      "the 8-th element is 64\n",
      "the 9-th element is 81\n",
      "the 10-th element is 100\n"
     ]
    }
   ],
   "source": [
    "arr = [x^2 for x in 1:10]\n",
    "for i = 1:length(arr)\n",
    "    println(\"the $i-th element is $(arr[i])\")\n",
    "end"
   ]
  },
  {
   "cell_type": "code",
   "execution_count": 24,
   "metadata": {},
   "outputs": [
    {
     "name": "stdout",
     "output_type": "stream",
     "text": [
      "the 1-th element is 1\n",
      "the 2-th element is 4\n",
      "the 3-th element is 9\n",
      "the 4-th element is 16\n",
      "the 5-th element is 25\n",
      "the 6-th element is 36\n",
      "the 7-th element is 49\n",
      "the 8-th element is 64\n",
      "the 9-th element is 81\n",
      "the 10-th element is 100\n"
     ]
    }
   ],
   "source": [
    "#这是一个非常好用的东西！\n",
    "arr = [x^2 for x in 1:10]\n",
    "for (ix, val) in enumerate(arr)#enumerate 先天地提供了键供我们使用\n",
    "    println(\"the $ix-th element is $val\")\n",
    "end"
   ]
  },
  {
   "cell_type": "code",
   "execution_count": 29,
   "metadata": {},
   "outputs": [
    {
     "name": "stdout",
     "output_type": "stream",
     "text": [
      "1 * 1 = 1\n",
      "1 * 2 = 2\n",
      "1 * 3 = 3\n",
      "1 * 4 = 4\n",
      "1 * 5 = 5\n",
      "2 * 1 = 2\n",
      "2 * 2 = 4\n",
      "2 * 3 = 6\n",
      "2 * 4 = 8\n",
      "2 * 5 = 10\n",
      "3 * 1 = 3\n",
      "3 * 2 = 6\n",
      "3 * 3 = 9\n",
      "3 * 4 = 12\n",
      "3 * 5 = 15\n",
      "4 * 1 = 4\n",
      "4 * 2 = 8\n",
      "4 * 3 = 12\n",
      "4 * 4 = 16\n",
      "4 * 5 = 20\n",
      "5 * 1 = 5\n",
      "5 * 2 = 10\n",
      "5 * 3 = 15\n",
      "5 * 4 = 20\n",
      "5 * 5 = 25\n"
     ]
    }
   ],
   "source": [
    "for n = 1 : 5\n",
    "    for m = 1 : 5\n",
    "        println(\"$n * $m = $(n * m)\")\n",
    "    end\n",
    "end"
   ]
  },
  {
   "cell_type": "code",
   "execution_count": 31,
   "metadata": {},
   "outputs": [
    {
     "name": "stdout",
     "output_type": "stream",
     "text": [
      "1 * 1 = 1\n",
      "1 * 2 = 2\n",
      "1 * 3 = 3\n",
      "1 * 4 = 4\n",
      "1 * 5 = 5\n",
      "2 * 1 = 2\n",
      "2 * 2 = 4\n",
      "2 * 3 = 6\n",
      "2 * 4 = 8\n",
      "2 * 5 = 10\n",
      "3 * 1 = 3\n",
      "3 * 2 = 6\n",
      "3 * 3 = 9\n",
      "3 * 4 = 12\n",
      "3 * 5 = 15\n",
      "4 * 1 = 4\n",
      "4 * 2 = 8\n",
      "4 * 3 = 12\n",
      "4 * 4 = 16\n",
      "4 * 5 = 20\n",
      "5 * 1 = 5\n",
      "5 * 2 = 10\n",
      "5 * 3 = 15\n",
      "5 * 4 = 20\n",
      "5 * 5 = 25\n"
     ]
    }
   ],
   "source": [
    "# nested `for` loop can often be combined into a single outer loop.\n",
    "for n = 1:5, m = 1:5\n",
    "    println(\"$n * $m = $(n * m)\")\n",
    "end"
   ]
  },
  {
   "cell_type": "code",
   "execution_count": 32,
   "metadata": {},
   "outputs": [
    {
     "name": "stdout",
     "output_type": "stream",
     "text": [
      "10\n",
      "11\n",
      "12\n",
      "13\n",
      "14\n"
     ]
    }
   ],
   "source": [
    "a = 10; b = 15\n",
    "while a < b\n",
    "    println(a)\n",
    "    global a += 1#I think this global statement is used to improve the performance and specify the a we want to alter.\n",
    "end"
   ]
  },
  {
   "cell_type": "code",
   "execution_count": 34,
   "metadata": {},
   "outputs": [
    {
     "name": "stdout",
     "output_type": "stream",
     "text": [
      "4, 3, 2, 1, "
     ]
    }
   ],
   "source": [
    "arr = [1, 2, 3, 4]\n",
    "while !isempty(arr)\n",
    "    print(pop!(arr),\", \")\n",
    "end"
   ]
  },
  {
   "cell_type": "code",
   "execution_count": 35,
   "metadata": {},
   "outputs": [
    {
     "name": "stdout",
     "output_type": "stream",
     "text": [
      "10\n",
      "11\n",
      "12\n",
      "13\n",
      "14\n",
      "15\n",
      "16\n",
      "17\n",
      "18\n",
      "19\n",
      "20\n",
      "21\n",
      "22\n",
      "23\n",
      "24\n",
      "25\n",
      "26\n",
      "27\n",
      "28\n",
      "29\n",
      "30\n",
      "31\n",
      "32\n",
      "33\n",
      "34\n",
      "35\n",
      "36\n",
      "37\n",
      "38\n",
      "39\n",
      "40\n",
      "41\n",
      "42\n",
      "43\n",
      "44\n",
      "45\n",
      "46\n",
      "47\n",
      "48\n",
      "49\n"
     ]
    }
   ],
   "source": [
    "#The break statement\n",
    "a = 10\n",
    "b = 150\n",
    "while a < b\n",
    "    println(a)\n",
    "    global a += 1\n",
    "    if a >= 50 \n",
    "        break\n",
    "    end\n",
    "end"
   ]
  },
  {
   "cell_type": "code",
   "execution_count": 38,
   "metadata": {},
   "outputs": [
    {
     "name": "stdout",
     "output_type": "stream",
     "text": [
      "[3, 4, 9, 8, 9, 3, 3, 8, 2, 6]\n",
      "The searched element 4 occurs on index 2\n"
     ]
    }
   ],
   "source": [
    "arr = rand(1:10, 10)\n",
    "println(arr)\n",
    "searched = 4\n",
    "for (ix, curr) in enumerate(arr)\n",
    "    if curr == searched\n",
    "        println(\"The searched element $searched occurs on index $ix\")\n",
    "        break\n",
    "    end\n",
    "end"
   ]
  },
  {
   "cell_type": "code",
   "execution_count": 39,
   "metadata": {},
   "outputs": [
    {
     "name": "stdout",
     "output_type": "stream",
     "text": [
      "1\n",
      "2\n",
      "7\n",
      "8\n",
      "9\n",
      "10\n"
     ]
    }
   ],
   "source": [
    "for n in 1:10\n",
    "    if 3 <= n <= 6\n",
    "        continue\n",
    "    end\n",
    "    println(n)\n",
    "end"
   ]
  },
  {
   "cell_type": "markdown",
   "metadata": {},
   "source": [
    "There is no repeat ... untile or do ... while construct in Julia."
   ]
  },
  {
   "cell_type": "code",
   "execution_count": 41,
   "metadata": {},
   "outputs": [
    {
     "ename": "LoadError",
     "evalue": "BoundsError: attempt to access 3-element Array{Int64,1} at index [0]",
     "output_type": "error",
     "traceback": [
      "BoundsError: attempt to access 3-element Array{Int64,1} at index [0]",
      "",
      "Stacktrace:",
      " [1] getindex(::Array{Int64,1}, ::Int64) at ./array.jl:809",
      " [2] top-level scope at In[41]:3",
      " [3] include_string(::Function, ::Module, ::String, ::String) at ./loading.jl:1091"
     ]
    }
   ],
   "source": [
    "#Exception handling\n",
    "arr = [1, 2, 3]\n",
    "arr[0]"
   ]
  },
  {
   "cell_type": "code",
   "execution_count": 42,
   "metadata": {},
   "outputs": [
    {
     "data": {
      "text/plain": [
       "0.0 + 1.7320508075688772im"
      ]
     },
     "execution_count": 42,
     "metadata": {},
     "output_type": "execute_result"
    }
   ],
   "source": [
    "sqrt(complex(-3))"
   ]
  },
  {
   "cell_type": "code",
   "execution_count": 43,
   "metadata": {},
   "outputs": [
    {
     "ename": "LoadError",
     "evalue": "MethodError: no method matching DomainError()\nClosest candidates are:\n  DomainError(!Matched::Any) at boot.jl:259\n  DomainError(!Matched::Any, !Matched::Any) at boot.jl:260",
     "output_type": "error",
     "traceback": [
      "MethodError: no method matching DomainError()\nClosest candidates are:\n  DomainError(!Matched::Any) at boot.jl:259\n  DomainError(!Matched::Any, !Matched::Any) at boot.jl:260",
      "",
      "Stacktrace:",
      " [1] top-level scope at In[43]:6",
      " [2] include_string(::Function, ::Module, ::String, ::String) at ./loading.jl:1091"
     ]
    }
   ],
   "source": [
    "code = \"AR\"\n",
    "codes = [\"AO\",\"ZD\",\"SG\",\"EZ\"]\n",
    "if code in codes\n",
    "    println(\"This is an acceptable code\")\n",
    "else\n",
    "    throw(DomainError())\n",
    "end"
   ]
  },
  {
   "cell_type": "code",
   "execution_count": 44,
   "metadata": {},
   "outputs": [
    {
     "ename": "LoadError",
     "evalue": "MethodError: no method matching DomainError()\nClosest candidates are:\n  DomainError(!Matched::Any) at boot.jl:259\n  DomainError(!Matched::Any, !Matched::Any) at boot.jl:260",
     "output_type": "error",
     "traceback": [
      "MethodError: no method matching DomainError()\nClosest candidates are:\n  DomainError(!Matched::Any) at boot.jl:259\n  DomainError(!Matched::Any, !Matched::Any) at boot.jl:260",
      "",
      "Stacktrace:",
      " [1] top-level scope at In[44]:4",
      " [2] include_string(::Function, ::Module, ::String, ::String) at ./loading.jl:1091"
     ]
    }
   ],
   "source": [
    "if code in codes\n",
    "       println(\"This is an acceptable code\")\n",
    "else\n",
    "       throw(DomainError())\n",
    "end"
   ]
  },
  {
   "cell_type": "code",
   "execution_count": 46,
   "metadata": {},
   "outputs": [
    {
     "name": "stdout",
     "output_type": "stream",
     "text": [
      "ArgumentError\n"
     ]
    },
    {
     "ename": "LoadError",
     "evalue": "MethodError: no method matching showerror(::ArgumentError)\nClosest candidates are:\n  showerror(!Matched::IO, !Matched::Base.PaddingError) at reinterpretarray.jl:252\n  showerror(!Matched::IO, !Matched::MissingException) at missing.jl:18\n  showerror(!Matched::IO, !Matched::CapturedException) at task.jl:24\n  ...",
     "output_type": "error",
     "traceback": [
      "MethodError: no method matching showerror(::ArgumentError)\nClosest candidates are:\n  showerror(!Matched::IO, !Matched::Base.PaddingError) at reinterpretarray.jl:252\n  showerror(!Matched::IO, !Matched::MissingException) at missing.jl:18\n  showerror(!Matched::IO, !Matched::CapturedException) at task.jl:24\n  ...",
      "",
      "Stacktrace:",
      " [1] top-level scope at In[46]:6",
      " [2] include_string(::Function, ::Module, ::String, ::String) at ./loading.jl:1091"
     ]
    }
   ],
   "source": [
    "a = []\n",
    "try \n",
    "    pop!(a)\n",
    "catch ex\n",
    "    println(typeof(ex))\n",
    "    showerror(ex)\n",
    "end"
   ]
  },
  {
   "cell_type": "code",
   "execution_count": 47,
   "metadata": {},
   "outputs": [
    {
     "data": {
      "text/plain": [
       "8"
      ]
     },
     "execution_count": 47,
     "metadata": {},
     "output_type": "execute_result"
    }
   ],
   "source": [
    "ret = try\n",
    "        global a = 4 * 2\n",
    "     catch ex\n",
    "     end"
   ]
  },
  {
   "cell_type": "code",
   "execution_count": 51,
   "metadata": {},
   "outputs": [
    {
     "name": "stdout",
     "output_type": "stream",
     "text": [
      "This is the local x in for: 7\n",
      "This is the local x in funscope: 0\n",
      "This is the global x: 15\n"
     ]
    }
   ],
   "source": [
    "\"\"\"\n",
    "Scope revisited\n",
    "If a variable exists both in local and global scope, you can decide which one you want to use by prefixing them with\n",
    "the global or local keyword\n",
    "\"\"\"\n",
    "\n",
    "\n",
    "# It's very intuitive\n",
    "x = 9\n",
    "function funscope(n)\n",
    "    x = 0 # local x for the function!\n",
    "    for i = 1:n\n",
    "        local x # x is local to the for loop!\n",
    "        x = i + 1\n",
    "        if (x == 7)\n",
    "            println(\"This is the local x in for: $x\")\n",
    "        end\n",
    "    end\n",
    "    x\n",
    "    println(\"This is the local x in funscope: $x\")\n",
    "    global x = 15\n",
    "end\n",
    "\n",
    "funscope(10)\n",
    "println(\"This is the global x: $x\")"
   ]
  },
  {
   "cell_type": "code",
   "execution_count": 52,
   "metadata": {},
   "outputs": [
    {
     "name": "stdout",
     "output_type": "stream",
     "text": [
      "This is the local x in for: 7\n",
      "This is the local x in funscope: 0\n",
      "This is the global x: 9\n"
     ]
    }
   ],
   "source": [
    "x = 9\n",
    "function funscope(n)\n",
    "    x = 0 # local x for the function!\n",
    "    for i = 1:n\n",
    "        local x # x is local to the for loop!\n",
    "        x = i + 1\n",
    "        if (x == 7)\n",
    "            println(\"This is the local x in for: $x\")\n",
    "        end\n",
    "    end\n",
    "    x\n",
    "    println(\"This is the local x in funscope: $x\")\n",
    "    #global x = 15\n",
    "end\n",
    "\n",
    "funscope(10)\n",
    "println(\"This is the global x: $x\")"
   ]
  },
  {
   "cell_type": "markdown",
   "metadata": {},
   "source": [
    "You can do that just try to make fun, but needless to say, such name conflicts obscure the code and are a source of bugs, so try to avoid them if possible."
   ]
  },
  {
   "cell_type": "code",
   "execution_count": 59,
   "metadata": {},
   "outputs": [],
   "source": [
    "#If you need to create a new local binding for a variable, use the `let` block\n",
    "\n",
    "anon = Array{Any}(undef,2)\n",
    "for i = 1:2\n",
    "    anon[i] = ()->println(i)\n",
    "    i += 1\n",
    "end"
   ]
  },
  {
   "cell_type": "code",
   "execution_count": 60,
   "metadata": {},
   "outputs": [
    {
     "name": "stdout",
     "output_type": "stream",
     "text": [
      "2\n",
      "3\n"
     ]
    }
   ],
   "source": [
    "anon[1]()\n",
    "anon[2]()"
   ]
  },
  {
   "cell_type": "markdown",
   "metadata": {},
   "source": [
    "这里我的理解是这样的，我们在一个for循环中就相当于创建了一个小的local scope，在这个scope中我们定义了一个匿名函数，并且是用anon[1],anon[2]来命名它们（指向它们）。但是在一个i——一个local scope中我们又让i+=1,这个时候由于是同一个scope，函数的定义中的i就被改变了。"
   ]
  },
  {
   "cell_type": "code",
   "execution_count": 64,
   "metadata": {},
   "outputs": [],
   "source": [
    "anon = Array{Any}(undef, 2)\n",
    "for i = 1:2\n",
    "    let i = i #这是我们重新创造一个local scope。此i非下i！\n",
    "        anon[i] = () -> println(i)\n",
    "    end\n",
    "    i += 1 #这个i是在循环变量的i上加\n",
    "end"
   ]
  },
  {
   "cell_type": "code",
   "execution_count": 63,
   "metadata": {},
   "outputs": [
    {
     "name": "stdout",
     "output_type": "stream",
     "text": [
      "1\n"
     ]
    }
   ],
   "source": [
    "anon[1]()"
   ]
  },
  {
   "cell_type": "code",
   "execution_count": 65,
   "metadata": {},
   "outputs": [
    {
     "name": "stdout",
     "output_type": "stream",
     "text": [
      "2\n",
      "1\n"
     ]
    }
   ],
   "source": [
    "begin \n",
    "    local x = 1\n",
    "    let\n",
    "        local x = 2\n",
    "        println(x) #> 2\n",
    "    end\n",
    "    x\n",
    "    println(x) #> 1\n",
    "end"
   ]
  },
  {
   "cell_type": "code",
   "execution_count": 68,
   "metadata": {},
   "outputs": [
    {
     "name": "stdout",
     "output_type": "stream",
     "text": [
      "1\n",
      "2\n",
      "3\n",
      "4\n",
      "5\n",
      "6\n",
      "7\n",
      "8\n",
      "9\n",
      "10\n",
      "0\n"
     ]
    }
   ],
   "source": [
    "i = 0\n",
    "for i = 1:10\n",
    "    println(i)\n",
    "end\n",
    "println(i) #> 0"
   ]
  },
  {
   "cell_type": "code",
   "execution_count": 69,
   "metadata": {},
   "outputs": [
    {
     "name": "stdout",
     "output_type": "stream",
     "text": [
      "0\n"
     ]
    }
   ],
   "source": [
    "i = 0\n",
    "[i for i = 1:10]\n",
    "println(i)"
   ]
  },
  {
   "cell_type": "markdown",
   "metadata": {},
   "source": [
    "# Tasks"
   ]
  },
  {
   "cell_type": "code",
   "execution_count": 83,
   "metadata": {},
   "outputs": [
    {
     "data": {
      "text/plain": [
       "fib_producer (generic function with 1 method)"
      ]
     },
     "execution_count": 83,
     "metadata": {},
     "output_type": "execute_result"
    }
   ],
   "source": [
    "function fib_producer(c::Channel)\n",
    "    a, b = (0, 1)\n",
    "    for i = 1:10\n",
    "        put!(c, b)\n",
    "        a, b = (b, a + b)\n",
    "    end\n",
    "end"
   ]
  },
  {
   "cell_type": "code",
   "execution_count": 85,
   "metadata": {},
   "outputs": [
    {
     "data": {
      "text/plain": [
       "Channel{Any}(sz_max:0,sz_curr:1)"
      ]
     },
     "execution_count": 85,
     "metadata": {},
     "output_type": "execute_result"
    }
   ],
   "source": [
    "chnl = Channel(fib_producer)"
   ]
  },
  {
   "cell_type": "code",
   "execution_count": 81,
   "metadata": {},
   "outputs": [
    {
     "ename": "LoadError",
     "evalue": "InvalidStateException(\"Channel is closed.\", :closed)",
     "output_type": "error",
     "traceback": [
      "InvalidStateException(\"Channel is closed.\", :closed)",
      "",
      "Stacktrace:",
      " [1] check_channel_state at ./channels.jl:167 [inlined]",
      " [2] take_unbuffered(::Channel{Any}) at ./channels.jl:403",
      " [3] take!(::Channel{Any}) at ./channels.jl:381",
      " [4] top-level scope at In[81]:1",
      " [5] include_string(::Function, ::Module, ::String, ::String) at ./loading.jl:1091"
     ]
    }
   ],
   "source": [
    "take!(chnl)"
   ]
  },
  {
   "cell_type": "code",
   "execution_count": 86,
   "metadata": {},
   "outputs": [
    {
     "name": "stdout",
     "output_type": "stream",
     "text": [
      "1\n",
      "1\n",
      "2\n",
      "3\n",
      "5\n",
      "8\n",
      "13\n",
      "21\n",
      "34\n",
      "55\n"
     ]
    }
   ],
   "source": [
    "for n in chnl\n",
    "    println(n)\n",
    "end"
   ]
  },
  {
   "cell_type": "code",
   "execution_count": 87,
   "metadata": {},
   "outputs": [
    {
     "data": {
      "text/plain": [
       "Task (runnable) @0x0000000123decb50"
      ]
     },
     "execution_count": 87,
     "metadata": {},
     "output_type": "execute_result"
    }
   ],
   "source": [
    "chnl = @task fib_producer(c::Channel)"
   ]
  },
  {
   "cell_type": "code",
   "execution_count": 90,
   "metadata": {},
   "outputs": [
    {
     "name": "stdout",
     "output_type": "stream",
     "text": [
      "i = 1\n",
      "i = 2\n",
      "i = 6\n",
      "i = 24\n",
      "i = 120\n",
      "i = 1\n",
      "i = 2\n",
      "i = 6\n",
      "i = 24\n",
      "i = 120\n"
     ]
    }
   ],
   "source": [
    "# Coroutines are not executed in different threads, so they cannot run on separate CPUs!!!\n",
    "fac(i::Integer) = (i>1) ? i*fac(i-1) : 1\n",
    "c = Channel(0)\n",
    "d = Channel(1)\n",
    "task1 = @async foreach(i->put!(c,fac(i)),1:5)\n",
    "task2 = @async foreach(i->put!(d,fac(i)),1:5)\n",
    "bind(c,task1)\n",
    "bind(d,task2)\n",
    "for i in c\n",
    "    @show i \n",
    "end\n",
    "for i in d\n",
    "    @show i \n",
    "end"
   ]
  },
  {
   "cell_type": "markdown",
   "metadata": {},
   "source": [
    "# We will use them in the Chapter 8!!!"
   ]
  },
  {
   "cell_type": "code",
   "execution_count": null,
   "metadata": {},
   "outputs": [],
   "source": []
  }
 ],
 "metadata": {
  "kernelspec": {
   "display_name": "Julia 1.5.3",
   "language": "julia",
   "name": "julia-1.5"
  },
  "language_info": {
   "file_extension": ".jl",
   "mimetype": "application/julia",
   "name": "julia",
   "version": "1.5.3"
  }
 },
 "nbformat": 4,
 "nbformat_minor": 2
}
